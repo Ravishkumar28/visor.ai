{
  "nbformat": 4,
  "nbformat_minor": 0,
  "metadata": {
    "colab": {
      "provenance": [],
      "gpuType": "T4"
    },
    "kernelspec": {
      "name": "python3",
      "display_name": "Python 3"
    },
    "language_info": {
      "name": "python"
    },
    "accelerator": "GPU"
  },
  "cells": [
    {
      "cell_type": "code",
      "execution_count": 2,
      "metadata": {
        "colab": {
          "base_uri": "https://localhost:8080/"
        },
        "id": "fRhPczVrxWEx",
        "outputId": "f09d8a4b-9cfb-404b-ee3f-8b2a653b39e1",
        "collapsed": true
      },
      "outputs": [
        {
          "output_type": "stream",
          "name": "stderr",
          "text": [
            "100%|██████████| 1000/1000 [00:00<00:00, 1769.92it/s]\n",
            "100%|██████████| 200/200 [00:00<00:00, 1794.14it/s]\n",
            "Training: 100%|██████████| 32/32 [00:14<00:00,  2.22it/s]\n",
            "Validating: 100%|██████████| 7/7 [00:01<00:00,  6.07it/s]\n"
          ]
        },
        {
          "output_type": "stream",
          "name": "stdout",
          "text": [
            "Epoch 1:\n",
            "Train Loss: 0.5027, Train Acc: 79.80%\n",
            "Test Loss: 0.5520, Test Acc: 75.50%\n"
          ]
        },
        {
          "output_type": "stream",
          "name": "stderr",
          "text": [
            "Training: 100%|██████████| 32/32 [00:15<00:00,  2.07it/s]\n",
            "Validating: 100%|██████████| 7/7 [00:01<00:00,  6.14it/s]\n"
          ]
        },
        {
          "output_type": "stream",
          "name": "stdout",
          "text": [
            "Epoch 2:\n",
            "Train Loss: 0.4803, Train Acc: 81.90%\n",
            "Test Loss: 0.5836, Test Acc: 75.50%\n"
          ]
        },
        {
          "output_type": "stream",
          "name": "stderr",
          "text": [
            "Training: 100%|██████████| 32/32 [00:14<00:00,  2.22it/s]\n",
            "Validating: 100%|██████████| 7/7 [00:01<00:00,  5.98it/s]\n"
          ]
        },
        {
          "output_type": "stream",
          "name": "stdout",
          "text": [
            "Epoch 3:\n",
            "Train Loss: 0.4625, Train Acc: 81.90%\n",
            "Test Loss: 0.5836, Test Acc: 75.50%\n"
          ]
        },
        {
          "output_type": "stream",
          "name": "stderr",
          "text": [
            "Training: 100%|██████████| 32/32 [00:14<00:00,  2.21it/s]\n",
            "Validating: 100%|██████████| 7/7 [00:01<00:00,  6.23it/s]\n"
          ]
        },
        {
          "output_type": "stream",
          "name": "stdout",
          "text": [
            "Epoch 4:\n",
            "Train Loss: 0.4694, Train Acc: 81.90%\n",
            "Test Loss: 0.5629, Test Acc: 75.50%\n"
          ]
        },
        {
          "output_type": "stream",
          "name": "stderr",
          "text": [
            "Training: 100%|██████████| 32/32 [00:14<00:00,  2.24it/s]\n",
            "Validating: 100%|██████████| 7/7 [00:01<00:00,  6.34it/s]\n"
          ]
        },
        {
          "output_type": "stream",
          "name": "stdout",
          "text": [
            "Epoch 5:\n",
            "Train Loss: 0.4604, Train Acc: 81.90%\n",
            "Test Loss: 0.6990, Test Acc: 75.50%\n"
          ]
        },
        {
          "output_type": "stream",
          "name": "stderr",
          "text": [
            "Training: 100%|██████████| 32/32 [00:14<00:00,  2.16it/s]\n",
            "Validating: 100%|██████████| 7/7 [00:01<00:00,  6.36it/s]\n"
          ]
        },
        {
          "output_type": "stream",
          "name": "stdout",
          "text": [
            "Epoch 6:\n",
            "Train Loss: 0.4474, Train Acc: 81.90%\n",
            "Test Loss: 0.5679, Test Acc: 75.50%\n"
          ]
        },
        {
          "output_type": "stream",
          "name": "stderr",
          "text": [
            "Training: 100%|██████████| 32/32 [00:14<00:00,  2.21it/s]\n",
            "Validating: 100%|██████████| 7/7 [00:01<00:00,  5.01it/s]\n"
          ]
        },
        {
          "output_type": "stream",
          "name": "stdout",
          "text": [
            "Epoch 7:\n",
            "Train Loss: 0.4291, Train Acc: 81.90%\n",
            "Test Loss: 0.5753, Test Acc: 75.50%\n"
          ]
        },
        {
          "output_type": "stream",
          "name": "stderr",
          "text": [
            "Training: 100%|██████████| 32/32 [00:14<00:00,  2.22it/s]\n",
            "Validating: 100%|██████████| 7/7 [00:01<00:00,  6.33it/s]\n"
          ]
        },
        {
          "output_type": "stream",
          "name": "stdout",
          "text": [
            "Epoch 8:\n",
            "Train Loss: 0.4329, Train Acc: 81.90%\n",
            "Test Loss: 0.7413, Test Acc: 75.50%\n"
          ]
        },
        {
          "output_type": "stream",
          "name": "stderr",
          "text": [
            "Training: 100%|██████████| 32/32 [00:14<00:00,  2.23it/s]\n",
            "Validating: 100%|██████████| 7/7 [00:01<00:00,  6.33it/s]\n"
          ]
        },
        {
          "output_type": "stream",
          "name": "stdout",
          "text": [
            "Epoch 9:\n",
            "Train Loss: 0.3879, Train Acc: 81.80%\n",
            "Test Loss: 0.7386, Test Acc: 72.50%\n"
          ]
        },
        {
          "output_type": "stream",
          "name": "stderr",
          "text": [
            "Training: 100%|██████████| 32/32 [00:14<00:00,  2.23it/s]\n",
            "Validating: 100%|██████████| 7/7 [00:01<00:00,  6.20it/s]"
          ]
        },
        {
          "output_type": "stream",
          "name": "stdout",
          "text": [
            "Epoch 10:\n",
            "Train Loss: 0.3884, Train Acc: 83.20%\n",
            "Test Loss: 0.7314, Test Acc: 70.50%\n"
          ]
        },
        {
          "output_type": "stream",
          "name": "stderr",
          "text": [
            "\n"
          ]
        }
      ],
      "source": [
        "import torch\n",
        "import torch.nn as nn\n",
        "from transformers import BertModel, BertTokenizer\n",
        "from torchvision.models import resnet50\n",
        "from torchvision.transforms import Compose, Resize, ToTensor, Normalize, transforms\n",
        "from torch.utils.data import Dataset, DataLoader, random_split\n",
        "from PIL import Image, ImageDraw\n",
        "import numpy as np\n",
        "import matplotlib.pyplot as plt\n",
        "from tqdm import tqdm\n",
        "import os\n",
        "import torch.optim as optim\n",
        "\n",
        "import ssl\n",
        "ssl._create_default_https_context = ssl._create_unverified_context\n",
        "\n",
        "class ResNetFeatureExtractor(nn.Module):\n",
        "    def __init__(self, output_dim=768):\n",
        "        super().__init__()\n",
        "\n",
        "        resnet = resnet50(pretrained=True)\n",
        "        self.backbone = nn.Sequential(*list(resnet.children())[:-2])\n",
        "        self.pooling = nn.AdaptiveAvgPool2d((1, 1))\n",
        "        self.fc = nn.Linear(2048, output_dim)\n",
        "\n",
        "    def forward(self, x):\n",
        "        x = self.backbone(x)\n",
        "        x = self.pooling(x)\n",
        "        x = torch.flatten(x, 1)\n",
        "        x = self.fc(x)\n",
        "        return x\n",
        "\n",
        "class CrossAttention(nn.Module):\n",
        "    def __init__(self, dim):\n",
        "        super().__init__()\n",
        "        self.query = nn.Linear(dim, dim)\n",
        "        self.key = nn.Linear(dim, dim)\n",
        "        self.value = nn.Linear(dim, dim)\n",
        "        self.scale = dim ** -0.5\n",
        "\n",
        "    def forward(self, x, y):\n",
        "        q = self.query(x)\n",
        "        k = self.key(y)\n",
        "        v = self.value(y)\n",
        "\n",
        "        attention = torch.matmul(q, k.transpose(-2, -1)) * self.scale\n",
        "        attention = torch.softmax(attention, dim=-1)\n",
        "        out = torch.matmul(attention, v)\n",
        "        return out\n",
        "\n",
        "class VQAModel(nn.Module):\n",
        "    def __init__(self, num_classes=2, hidden_dim=768):\n",
        "        super().__init__()\n",
        "\n",
        "        self.resnet_features = ResNetFeatureExtractor(output_dim=hidden_dim)\n",
        "\n",
        "        self.bert = BertModel.from_pretrained('bert-base-uncased')\n",
        "        self.bert_projection = nn.Linear(768, hidden_dim)\n",
        "\n",
        "        self.fusion = CrossAttention(hidden_dim)\n",
        "\n",
        "        self.attention = nn.Sequential(\n",
        "            nn.Linear(hidden_dim, hidden_dim),\n",
        "            nn.ReLU(),\n",
        "            nn.Linear(hidden_dim, 1)\n",
        "        )\n",
        "\n",
        "        self.classifier = nn.Sequential(\n",
        "            nn.Linear(hidden_dim, hidden_dim),\n",
        "            nn.ReLU(),\n",
        "            nn.Dropout(0.1),\n",
        "            nn.Linear(hidden_dim, num_classes)\n",
        "        )\n",
        "\n",
        "    def forward(self, image, question_ids, attention_mask):\n",
        "        # process image\n",
        "        image_features = self.resnet_features(image)\n",
        "\n",
        "        # process question\n",
        "        question_output = self.bert(question_ids, attention_mask=attention_mask)\n",
        "        question_features = self.bert_projection(question_output.last_hidden_state)\n",
        "\n",
        "        # fusion through cross-attention\n",
        "        fused_features = self.fusion(question_features, image_features.unsqueeze(1))\n",
        "\n",
        "        # attention mechanism\n",
        "        attention_weights = self.attention(fused_features)\n",
        "        attention_weights = torch.softmax(attention_weights, dim=1)\n",
        "        attended_features = (fused_features * attention_weights).sum(dim=1)\n",
        "\n",
        "        # generate output prediction\n",
        "        logits = self.classifier(attended_features)\n",
        "        return logits\n",
        "\n",
        "def preprocess_image():\n",
        "    return Compose([\n",
        "        Resize((224, 224)),\n",
        "        ToTensor(),\n",
        "        Normalize(mean=[0.485, 0.456, 0.406], std=[0.229, 0.224, 0.225])\n",
        "    ])\n",
        "\n",
        "def preprocess_question(question: str, max_length: int = 64):\n",
        "    tokenizer = BertTokenizer.from_pretrained('bert-base-uncased')\n",
        "    tokens = tokenizer(\n",
        "        question,\n",
        "        padding='max_length',\n",
        "        max_length=max_length,\n",
        "        truncation=True,\n",
        "        return_tensors='pt'\n",
        "    )\n",
        "    return tokens\n",
        "\n",
        "class ShapeGenerator:\n",
        "    def __init__(self, img_size=(224,224), noise=0):\n",
        "        self.img_size = img_size\n",
        "        self.shapes = ['circle', 'square', 'triangle']\n",
        "        self.colors = {\n",
        "            'red': (255, 0, 0),\n",
        "            'blue': (0, 0, 255),\n",
        "            'green': (0, 255, 0)\n",
        "        }\n",
        "        self.positions = ['above', 'below', 'left of', 'right of']\n",
        "        self.shape_size = 40\n",
        "        self.noise = noise\n",
        "\n",
        "    def __shape__(self, draw, shape, color, pos):\n",
        "        if shape == 'circle':\n",
        "            draw.ellipse([pos[0]-self.shape_size//2,\n",
        "                         pos[1]-self.shape_size//2,\n",
        "                         pos[0]+self.shape_size//2,\n",
        "                         pos[1]+self.shape_size//2],\n",
        "                         fill=self.colors[color])\n",
        "        elif shape == 'square':\n",
        "            draw.rectangle([pos[0]-self.shape_size//2,\n",
        "                          pos[1]-self.shape_size//2,\n",
        "                          pos[0]+self.shape_size//2,\n",
        "                          pos[1]+self.shape_size//2],\n",
        "                          fill=self.colors[color])\n",
        "        elif shape == 'triangle':\n",
        "            points = [\n",
        "                (pos[0], pos[1]-self.shape_size//2),\n",
        "                (pos[0]-self.shape_size//2, pos[1]+self.shape_size//2),\n",
        "                (pos[0]+self.shape_size//2, pos[1]+self.shape_size//2)\n",
        "            ]\n",
        "            draw.polygon(points, fill=self.colors[color])\n",
        "\n",
        "    def __spatial__(self, pos1, pos2, rel):\n",
        "        if rel == 'above':\n",
        "            return pos1[1] < pos2[1]\n",
        "        elif rel == 'below':\n",
        "            return pos1[1] > pos2[1]\n",
        "        elif rel == 'left of':\n",
        "            return pos1[0] < pos2[0]\n",
        "        elif rel == 'right of':\n",
        "            return pos1[0] > pos2[0]\n",
        "\n",
        "    def generate_sample(self):\n",
        "        img = Image.new('RGB', self.img_size, 'white')\n",
        "        draw = ImageDraw.Draw(img)\n",
        "\n",
        "        shape1 = np.random.choice(self.shapes)\n",
        "        shape2 = np.random.choice(self.shapes)\n",
        "        color1 = np.random.choice(list(self.colors.keys()))\n",
        "        color2 = np.random.choice(list(self.colors.keys()))\n",
        "        position = np.random.choice(self.positions)\n",
        "\n",
        "        margin = self.shape_size\n",
        "        if position in ['above', 'below']:\n",
        "            x1 = np.random.randint(margin, self.img_size[0]-margin)\n",
        "            x2 = np.random.randint(margin, self.img_size[0]-margin)\n",
        "            if position == 'above':\n",
        "                y1 = self.img_size[1]//3\n",
        "                y2 = 2*self.img_size[1]//3\n",
        "            else:\n",
        "                y1 = 2*self.img_size[1]//3\n",
        "                y2 = self.img_size[1]//3\n",
        "        else:  # left or right\n",
        "            y1 = np.random.randint(margin, self.img_size[1]-margin)\n",
        "            y2 = np.random.randint(margin, self.img_size[1]-margin)\n",
        "            if position == 'left of':\n",
        "                x1 = self.img_size[0]//3\n",
        "                x2 = 2*self.img_size[0]//3\n",
        "            else:\n",
        "                x1 = 2*self.img_size[0]//3\n",
        "                x2 = self.img_size[0]//3\n",
        "\n",
        "        self.__shape__(draw, shape1, color1, (x1, y1))\n",
        "        self.__shape__(draw, shape2, color2, (x2, y2))\n",
        "\n",
        "        question = f\"Is there a {color1} {shape1} {position} a {color2} {shape2}?\"\n",
        "        answer = 'yes' if self.__spatial__((x1, y1), (x2, y2), position) else 'no'\n",
        "\n",
        "        return img, question, answer\n",
        "\n",
        "class ShapesDataset(Dataset):\n",
        "    def __init__(self, num_samples=1000, transform=None, split='train', noise=(0,0,0)):\n",
        "        self.transform = transform\n",
        "        self.generator = ShapeGenerator(noise=noise)\n",
        "        self.n = num_samples\n",
        "        self.data = []\n",
        "        self.noise_indices = []\n",
        "        self.tv_noise = noise[0]\n",
        "        self.shape_noise = noise[1]\n",
        "        self.color_noise = noise[2]\n",
        "\n",
        "        for i in tqdm(range(self.n)):\n",
        "            img, ques, ans = self.generator.generate_sample()\n",
        "\n",
        "            if np.random.rand() < self.tv_noise:\n",
        "                img = self.__tv_noise__(img)\n",
        "                self.noise_indices.append(i)\n",
        "\n",
        "            if np.random.rand() < self.shape_noise:\n",
        "                ques = self.__shape_noise__(ques)\n",
        "                ans = 'no'\n",
        "                self.noise_indices.append(i)\n",
        "            if np.random.rand() < self.color_noise:\n",
        "                ques = self.__color_noise__(ques)\n",
        "                ans = 'no'\n",
        "                self.noise_indices.append(i)\n",
        "\n",
        "            self.data.append((img, ques, ans))\n",
        "\n",
        "        self.ans2idx = {'yes':0, 'no':1}\n",
        "\n",
        "    def __tv_noise__(self, img):\n",
        "        np_img = np.array(img)\n",
        "        noise = np.random.randint(0, 64, (np_img.shape[0], np_img.shape[1], np_img.shape[2]), dtype='uint8')\n",
        "        np_img = np.clip(np_img + noise, 0, 255)\n",
        "        return Image.fromarray(np_img)\n",
        "\n",
        "    def __shape_noise__(self, ques):\n",
        "        shapes = ['circle', 'square', 'triangle']\n",
        "        current_shape = [shape for shape in shapes if shape in ques][0]\n",
        "        new_shape = np.random.choice([s for s in shapes if s != current_shape])\n",
        "        return ques.replace(current_shape, new_shape)\n",
        "\n",
        "    def __color_noise__(self, ques):\n",
        "        colors = ['red', 'blue', 'green']\n",
        "        current_color = [color for color in colors if color in ques][0]\n",
        "        new_color = np.random.choice([c for c in colors if c != current_color])\n",
        "        return ques.replace(current_color, new_color)\n",
        "\n",
        "    def __len__(self):\n",
        "        return self.n\n",
        "\n",
        "    def __getitem__(self, idx):\n",
        "        img, ques, ans = self.data[idx]\n",
        "\n",
        "        if self.transform:\n",
        "            img = self.transform(img)\n",
        "\n",
        "        return {\n",
        "            'image' : img,\n",
        "            'question' : ques,\n",
        "            'answer' : torch.tensor(self.ans2idx[ans], dtype=torch.long)\n",
        "        }\n",
        "\n",
        "    def visualise_sample(self, idx):\n",
        "        img, ques, ans = self.data[idx]\n",
        "        plt.figure(figsize=(10,5))\n",
        "        plt.imshow(img)\n",
        "        plt.title(f\"Q : {ques}\\nA: {ans}\")\n",
        "        plt.axis('off')\n",
        "        plt.show()\n",
        "\n",
        "def train_one_epoch(model, dataloader, criterion, optimizer, device):\n",
        "    model.train()\n",
        "    total_loss = 0\n",
        "    correct = 0\n",
        "    total = 0\n",
        "\n",
        "    for batch in tqdm(dataloader, desc='Training'):\n",
        "        images = batch['image'].to(device)\n",
        "        questions = batch['question']\n",
        "        answers = batch['answer'].to(device)\n",
        "\n",
        "        # process questions through BERT tokenizer\n",
        "        question_tokens = tokenizer(questions, padding=True, truncation=True,\n",
        "                                  return_tensors='pt').to(device)\n",
        "\n",
        "        optimizer.zero_grad()\n",
        "        outputs = model(images, question_tokens.input_ids,\n",
        "                       question_tokens.attention_mask)\n",
        "\n",
        "        loss = criterion(outputs, answers)\n",
        "        loss.backward()\n",
        "        optimizer.step()\n",
        "\n",
        "        total_loss += loss.item()\n",
        "        _, predicted = outputs.max(1)\n",
        "        total += answers.size(0)\n",
        "        correct += predicted.eq(answers).sum().item()\n",
        "\n",
        "    return total_loss / len(dataloader), 100. * correct / total\n",
        "\n",
        "def validate(model, dataloader, criterion, device):\n",
        "    model.eval()\n",
        "    total_loss = 0\n",
        "    correct = 0\n",
        "    total = 0\n",
        "\n",
        "    with torch.no_grad():\n",
        "        for batch in tqdm(dataloader, desc='Validating'):\n",
        "            images = batch['image'].to(device)\n",
        "            questions = batch['question']\n",
        "            answers = batch['answer'].to(device)\n",
        "\n",
        "            question_tokens = tokenizer(questions, padding=True, truncation=True,\n",
        "                                      return_tensors='pt').to(device)\n",
        "\n",
        "            outputs = model(images, question_tokens.input_ids,\n",
        "                          question_tokens.attention_mask)\n",
        "            loss = criterion(outputs, answers)\n",
        "\n",
        "            total_loss += loss.item()\n",
        "            _, predicted = outputs.max(1)\n",
        "            total += answers.size(0)\n",
        "            correct += predicted.eq(answers).sum().item()\n",
        "\n",
        "    return total_loss / len(dataloader), 100. * correct / total\n",
        "\n",
        "# define the image transforms\n",
        "transform = transforms.Compose([\n",
        "    transforms.Resize((224, 224)),\n",
        "    transforms.ToTensor(),\n",
        "    transforms.Normalize(mean=[0.485, 0.456, 0.406],\n",
        "                        std=[0.229, 0.224, 0.225])\n",
        "])\n",
        "\n",
        "\n",
        "# initialize the BERT tokenizer\n",
        "tokenizer = BertTokenizer.from_pretrained('bert-base-uncased')\n",
        "\n",
        "device = torch.device('cuda' if torch.cuda.is_available() else 'cpu')\n",
        "\n",
        "if __name__ == '__main__':\n",
        "    train_dataset = ShapesDataset(num_samples=1000, transform=transform, split='train', noise=(0.1,0.1,0.1))\n",
        "    test_dataset = ShapesDataset(num_samples=200, transform=transform, split='test', noise=(0.1,0.1,0.1))\n",
        "\n",
        "    # dataloaders\n",
        "    train_loader = DataLoader(train_dataset, batch_size=32, shuffle=True, num_workers=2)\n",
        "    test_loader = DataLoader(test_dataset, batch_size=32, shuffle=False, num_workers=2)\n",
        "\n",
        "    # initialize model and training components\n",
        "    model = VQAModel(num_classes=2).to(device)\n",
        "    criterion = nn.CrossEntropyLoss()\n",
        "    optimizer = optim.Adam(model.parameters(), lr=0.0001)\n",
        "\n",
        "    # training loop with validation\n",
        "    best_acc = 0\n",
        "    test_accs = []\n",
        "    test_losses = []\n",
        "    train_accs = []\n",
        "    train_losses = []\n",
        "    for epoch in range(10):\n",
        "        train_loss, train_acc = train_one_epoch(model, train_loader, criterion,\n",
        "                                            optimizer, device)\n",
        "        test_loss, test_acc = validate(model, test_loader, criterion, device)\n",
        "\n",
        "        test_accs.append(test_acc)\n",
        "        test_losses.append(test_loss)\n",
        "        train_accs.append(train_acc)\n",
        "        train_losses.append(train_loss)\n",
        "\n",
        "        print(f'Epoch {epoch+1}:')\n",
        "        print(f'Train Loss: {train_loss:.4f}, Train Acc: {train_acc:.2f}%')\n",
        "        print(f'Test Loss: {test_loss:.4f}, Test Acc: {test_acc:.2f}%')\n",
        "\n",
        "        if test_acc > best_acc:\n",
        "            best_acc = test_acc\n",
        "            torch.save(model.state_dict(), 'best_model.pth')"
      ]
    },
    {
      "cell_type": "code",
      "source": [
        "fig, axes = plt.subplots(nrows=2, ncols=2)\n",
        "axes[0][0].plot(test_accs)\n",
        "axes[0][0].set_title('Accuracy')\n",
        "axes[0][0].set_ylabel('Test')\n",
        "axes[0][1].plot(test_losses)\n",
        "axes[0][1].set_title('Losses')\n",
        "axes[1][0].plot(train_accs, label='Train Accuracy')\n",
        "axes[1][0].set_ylabel('Train')\n",
        "axes[1][1].plot(train_losses, label='Train Loss')\n",
        "fig.suptitle(f\"Test noise = {len(test_dataset.noise_indices)}/200 images | Train noise = {len(train_dataset.noise_indices)}/1000 images\")\n",
        "plt.show()"
      ],
      "metadata": {
        "colab": {
          "base_uri": "https://localhost:8080/",
          "height": 478
        },
        "id": "1b6LbBjF4Ulr",
        "outputId": "d5986e7f-8690-4793-dbd1-9c15dc7b940e"
      },
      "execution_count": 3,
      "outputs": [
        {
          "output_type": "display_data",
          "data": {
            "text/plain": [
              "<Figure size 640x480 with 4 Axes>"
            ],
            "image/png": "[encoded data removed]"
          },
          "metadata": {}
        }
      ]
    },
    {
      "cell_type": "code",
      "source": [
        "noises = [0.01, 0.05, 0.1, 0.2, 0.25, 0.3, 0.4, 0.5, 0.6, 0.7, 0.75]\n",
        "best_acc_tv = []\n",
        "def main():\n",
        "  for n in noises:\n",
        "    train_dataset = ShapesDataset(num_samples=1000, transform=transform, split='train', noise=(n,0.1,0.1))\n",
        "    test_dataset = ShapesDataset(num_samples=200, transform=transform, split='test', noise=(n,0.1,0.1))\n",
        "\n",
        "    train_loader = DataLoader(train_dataset, batch_size=32, shuffle=True, num_workers=2)\n",
        "    test_loader = DataLoader(test_dataset, batch_size=32, shuffle=False, num_workers=2)\n",
        "\n",
        "    model = VQAModel(num_classes=2).to(device)\n",
        "    criterion = nn.CrossEntropyLoss()\n",
        "    optimizer = optim.Adam(model.parameters(), lr=0.0001)\n",
        "\n",
        "    best_acc_test = 0\n",
        "    best_acc = 0\n",
        "    for epoch in range(5):\n",
        "        train_loss, train_acc = train_one_epoch(model, train_loader, criterion,\n",
        "                                            optimizer, device)\n",
        "        test_loss, test_acc = validate(model, test_loader, criterion, device)\n",
        "\n",
        "        print(f'Epoch {epoch+1}:')\n",
        "        print(f'Train Loss: {train_loss:.4f}, Train Acc: {train_acc:.2f}%')\n",
        "        print(f'Val Loss: {test_loss:.4f}, Val Acc: {test_acc:.2f}%')\n",
        "\n",
        "        if test_acc > best_acc_test:\n",
        "            best_acc_test = test_acc\n",
        "\n",
        "        if test_acc > best_acc:\n",
        "            best_acc = test_acc\n",
        "            torch.save(model.state_dict(), 'best_tv_model_by_noise.pth')\n",
        "\n",
        "    best_acc_tv.append(best_acc_test)\n",
        "\n",
        "\n",
        "if __name__ == '__main__':\n",
        "  main()"
      ],
      "metadata": {
        "colab": {
          "base_uri": "https://localhost:8080/"
        },
        "id": "aLixUMTv0F6k",
        "outputId": "d4de3c42-135a-4679-e747-9baff2012522",
        "collapsed": true
      },
      "execution_count": 4,
      "outputs": [
        {
          "output_type": "stream",
          "name": "stderr",
          "text": [
            "100%|██████████| 1000/1000 [00:00<00:00, 3526.75it/s]\n",
            "100%|██████████| 200/200 [00:00<00:00, 3988.08it/s]\n",
            "Training: 100%|██████████| 32/32 [00:14<00:00,  2.23it/s]\n",
            "Validating: 100%|██████████| 7/7 [00:01<00:00,  6.34it/s]\n"
          ]
        },
        {
          "output_type": "stream",
          "name": "stdout",
          "text": [
            "Epoch 1:\n",
            "Train Loss: 0.5227, Train Acc: 78.60%\n",
            "Val Loss: 0.5250, Val Acc: 76.50%\n"
          ]
        },
        {
          "output_type": "stream",
          "name": "stderr",
          "text": [
            "Training: 100%|██████████| 32/32 [00:14<00:00,  2.23it/s]\n",
            "Validating: 100%|██████████| 7/7 [00:01<00:00,  6.30it/s]\n"
          ]
        },
        {
          "output_type": "stream",
          "name": "stdout",
          "text": [
            "Epoch 2:\n",
            "Train Loss: 0.5137, Train Acc: 78.90%\n",
            "Val Loss: 0.5109, Val Acc: 76.50%\n"
          ]
        },
        {
          "output_type": "stream",
          "name": "stderr",
          "text": [
            "Training: 100%|██████████| 32/32 [00:14<00:00,  2.22it/s]\n",
            "Validating: 100%|██████████| 7/7 [00:01<00:00,  5.34it/s]\n"
          ]
        },
        {
          "output_type": "stream",
          "name": "stdout",
          "text": [
            "Epoch 3:\n",
            "Train Loss: 0.5104, Train Acc: 78.90%\n",
            "Val Loss: 0.5331, Val Acc: 76.50%\n"
          ]
        },
        {
          "output_type": "stream",
          "name": "stderr",
          "text": [
            "Training: 100%|██████████| 32/32 [00:14<00:00,  2.23it/s]\n",
            "Validating: 100%|██████████| 7/7 [00:01<00:00,  6.38it/s]\n"
          ]
        },
        {
          "output_type": "stream",
          "name": "stdout",
          "text": [
            "Epoch 4:\n",
            "Train Loss: 0.4988, Train Acc: 78.90%\n",
            "Val Loss: 0.5323, Val Acc: 76.50%\n"
          ]
        },
        {
          "output_type": "stream",
          "name": "stderr",
          "text": [
            "Training: 100%|██████████| 32/32 [00:14<00:00,  2.24it/s]\n",
            "Validating: 100%|██████████| 7/7 [00:01<00:00,  6.30it/s]\n"
          ]
        },
        {
          "output_type": "stream",
          "name": "stdout",
          "text": [
            "Epoch 5:\n",
            "Train Loss: 0.4702, Train Acc: 78.90%\n",
            "Val Loss: 0.6148, Val Acc: 76.50%\n"
          ]
        },
        {
          "output_type": "stream",
          "name": "stderr",
          "text": [
            "100%|██████████| 1000/1000 [00:00<00:00, 3755.98it/s]\n",
            "100%|██████████| 200/200 [00:00<00:00, 3913.75it/s]\n",
            "Training: 100%|██████████| 32/32 [00:14<00:00,  2.24it/s]\n",
            "Validating: 100%|██████████| 7/7 [00:01<00:00,  5.27it/s]\n"
          ]
        },
        {
          "output_type": "stream",
          "name": "stdout",
          "text": [
            "Epoch 1:\n",
            "Train Loss: 0.5124, Train Acc: 80.70%\n",
            "Val Loss: 0.4609, Val Acc: 83.00%\n"
          ]
        },
        {
          "output_type": "stream",
          "name": "stderr",
          "text": [
            "Training: 100%|██████████| 32/32 [00:14<00:00,  2.21it/s]\n",
            "Validating: 100%|██████████| 7/7 [00:01<00:00,  6.27it/s]\n"
          ]
        },
        {
          "output_type": "stream",
          "name": "stdout",
          "text": [
            "Epoch 2:\n",
            "Train Loss: 0.4759, Train Acc: 82.20%\n",
            "Val Loss: 0.4836, Val Acc: 83.00%\n"
          ]
        },
        {
          "output_type": "stream",
          "name": "stderr",
          "text": [
            "Training: 100%|██████████| 32/32 [00:14<00:00,  2.22it/s]\n",
            "Validating: 100%|██████████| 7/7 [00:01<00:00,  6.25it/s]\n"
          ]
        },
        {
          "output_type": "stream",
          "name": "stdout",
          "text": [
            "Epoch 3:\n",
            "Train Loss: 0.4736, Train Acc: 82.20%\n",
            "Val Loss: 0.4486, Val Acc: 83.00%\n"
          ]
        },
        {
          "output_type": "stream",
          "name": "stderr",
          "text": [
            "Training: 100%|██████████| 32/32 [00:14<00:00,  2.22it/s]\n",
            "Validating: 100%|██████████| 7/7 [00:01<00:00,  5.73it/s]\n"
          ]
        },
        {
          "output_type": "stream",
          "name": "stdout",
          "text": [
            "Epoch 4:\n",
            "Train Loss: 0.4383, Train Acc: 82.20%\n",
            "Val Loss: 0.5566, Val Acc: 83.00%\n"
          ]
        },
        {
          "output_type": "stream",
          "name": "stderr",
          "text": [
            "Training: 100%|██████████| 32/32 [00:14<00:00,  2.23it/s]\n",
            "Validating: 100%|██████████| 7/7 [00:01<00:00,  6.09it/s]\n"
          ]
        },
        {
          "output_type": "stream",
          "name": "stdout",
          "text": [
            "Epoch 5:\n",
            "Train Loss: 0.4445, Train Acc: 82.20%\n",
            "Val Loss: 0.4809, Val Acc: 83.00%\n"
          ]
        },
        {
          "output_type": "stream",
          "name": "stderr",
          "text": [
            "100%|██████████| 1000/1000 [00:00<00:00, 4082.48it/s]\n",
            "100%|██████████| 200/200 [00:00<00:00, 4191.01it/s]\n",
            "Training: 100%|██████████| 32/32 [00:14<00:00,  2.23it/s]\n",
            "Validating: 100%|██████████| 7/7 [00:01<00:00,  6.24it/s]\n"
          ]
        },
        {
          "output_type": "stream",
          "name": "stdout",
          "text": [
            "Epoch 1:\n",
            "Train Loss: 0.5198, Train Acc: 80.70%\n",
            "Val Loss: 0.4881, Val Acc: 82.00%\n"
          ]
        },
        {
          "output_type": "stream",
          "name": "stderr",
          "text": [
            "Training: 100%|██████████| 32/32 [00:14<00:00,  2.21it/s]\n",
            "Validating: 100%|██████████| 7/7 [00:01<00:00,  6.19it/s]\n"
          ]
        },
        {
          "output_type": "stream",
          "name": "stdout",
          "text": [
            "Epoch 2:\n",
            "Train Loss: 0.5052, Train Acc: 80.90%\n",
            "Val Loss: 0.4647, Val Acc: 82.00%\n"
          ]
        },
        {
          "output_type": "stream",
          "name": "stderr",
          "text": [
            "Training: 100%|██████████| 32/32 [00:14<00:00,  2.21it/s]\n",
            "Validating: 100%|██████████| 7/7 [00:01<00:00,  6.10it/s]\n"
          ]
        },
        {
          "output_type": "stream",
          "name": "stdout",
          "text": [
            "Epoch 3:\n",
            "Train Loss: 0.4885, Train Acc: 80.90%\n",
            "Val Loss: 0.4424, Val Acc: 82.00%\n"
          ]
        },
        {
          "output_type": "stream",
          "name": "stderr",
          "text": [
            "Training: 100%|██████████| 32/32 [00:14<00:00,  2.23it/s]\n",
            "Validating: 100%|██████████| 7/7 [00:01<00:00,  5.17it/s]\n"
          ]
        },
        {
          "output_type": "stream",
          "name": "stdout",
          "text": [
            "Epoch 4:\n",
            "Train Loss: 0.4725, Train Acc: 80.90%\n",
            "Val Loss: 0.4852, Val Acc: 82.00%\n"
          ]
        },
        {
          "output_type": "stream",
          "name": "stderr",
          "text": [
            "Training: 100%|██████████| 32/32 [00:14<00:00,  2.23it/s]\n",
            "Validating: 100%|██████████| 7/7 [00:01<00:00,  6.29it/s]\n"
          ]
        },
        {
          "output_type": "stream",
          "name": "stdout",
          "text": [
            "Epoch 5:\n",
            "Train Loss: 0.4457, Train Acc: 80.90%\n",
            "Val Loss: 0.5458, Val Acc: 82.00%\n"
          ]
        },
        {
          "output_type": "stream",
          "name": "stderr",
          "text": [
            "100%|██████████| 1000/1000 [00:00<00:00, 3392.66it/s]\n",
            "100%|██████████| 200/200 [00:00<00:00, 3233.78it/s]\n",
            "Training: 100%|██████████| 32/32 [00:14<00:00,  2.22it/s]\n",
            "Validating: 100%|██████████| 7/7 [00:01<00:00,  6.20it/s]\n"
          ]
        },
        {
          "output_type": "stream",
          "name": "stdout",
          "text": [
            "Epoch 1:\n",
            "Train Loss: 0.5160, Train Acc: 80.70%\n",
            "Val Loss: 0.4637, Val Acc: 83.00%\n"
          ]
        },
        {
          "output_type": "stream",
          "name": "stderr",
          "text": [
            "Training: 100%|██████████| 32/32 [00:14<00:00,  2.20it/s]\n",
            "Validating: 100%|██████████| 7/7 [00:01<00:00,  5.88it/s]\n"
          ]
        },
        {
          "output_type": "stream",
          "name": "stdout",
          "text": [
            "Epoch 2:\n",
            "Train Loss: 0.4713, Train Acc: 82.50%\n",
            "Val Loss: 0.4969, Val Acc: 83.00%\n"
          ]
        },
        {
          "output_type": "stream",
          "name": "stderr",
          "text": [
            "Training: 100%|██████████| 32/32 [00:14<00:00,  2.22it/s]\n",
            "Validating: 100%|██████████| 7/7 [00:01<00:00,  6.05it/s]\n"
          ]
        },
        {
          "output_type": "stream",
          "name": "stdout",
          "text": [
            "Epoch 3:\n",
            "Train Loss: 0.4325, Train Acc: 82.50%\n",
            "Val Loss: 0.6051, Val Acc: 83.00%\n"
          ]
        },
        {
          "output_type": "stream",
          "name": "stderr",
          "text": [
            "Training: 100%|██████████| 32/32 [00:14<00:00,  2.23it/s]\n",
            "Validating: 100%|██████████| 7/7 [00:01<00:00,  6.12it/s]\n"
          ]
        },
        {
          "output_type": "stream",
          "name": "stdout",
          "text": [
            "Epoch 4:\n",
            "Train Loss: 0.3870, Train Acc: 84.70%\n",
            "Val Loss: 0.6782, Val Acc: 83.00%\n"
          ]
        },
        {
          "output_type": "stream",
          "name": "stderr",
          "text": [
            "Training: 100%|██████████| 32/32 [00:14<00:00,  2.24it/s]\n",
            "Validating: 100%|██████████| 7/7 [00:01<00:00,  5.89it/s]\n"
          ]
        },
        {
          "output_type": "stream",
          "name": "stdout",
          "text": [
            "Epoch 5:\n",
            "Train Loss: 0.4009, Train Acc: 83.90%\n",
            "Val Loss: 0.6128, Val Acc: 69.50%\n"
          ]
        },
        {
          "output_type": "stream",
          "name": "stderr",
          "text": [
            "100%|██████████| 1000/1000 [00:00<00:00, 2099.09it/s]\n",
            "100%|██████████| 200/200 [00:00<00:00, 2168.09it/s]\n",
            "Training: 100%|██████████| 32/32 [00:14<00:00,  2.22it/s]\n",
            "Validating: 100%|██████████| 7/7 [00:01<00:00,  6.10it/s]\n"
          ]
        },
        {
          "output_type": "stream",
          "name": "stdout",
          "text": [
            "Epoch 1:\n",
            "Train Loss: 0.5134, Train Acc: 79.90%\n",
            "Val Loss: 0.4951, Val Acc: 81.50%\n"
          ]
        },
        {
          "output_type": "stream",
          "name": "stderr",
          "text": [
            "Training: 100%|██████████| 32/32 [00:14<00:00,  2.21it/s]\n",
            "Validating: 100%|██████████| 7/7 [00:01<00:00,  6.06it/s]\n"
          ]
        },
        {
          "output_type": "stream",
          "name": "stdout",
          "text": [
            "Epoch 2:\n",
            "Train Loss: 0.4610, Train Acc: 82.10%\n",
            "Val Loss: 0.5233, Val Acc: 81.50%\n"
          ]
        },
        {
          "output_type": "stream",
          "name": "stderr",
          "text": [
            "Training: 100%|██████████| 32/32 [00:14<00:00,  2.21it/s]\n",
            "Validating: 100%|██████████| 7/7 [00:01<00:00,  5.97it/s]\n"
          ]
        },
        {
          "output_type": "stream",
          "name": "stdout",
          "text": [
            "Epoch 3:\n",
            "Train Loss: 0.4227, Train Acc: 82.10%\n",
            "Val Loss: 0.9165, Val Acc: 81.50%\n"
          ]
        },
        {
          "output_type": "stream",
          "name": "stderr",
          "text": [
            "Training: 100%|██████████| 32/32 [00:14<00:00,  2.23it/s]\n",
            "Validating: 100%|██████████| 7/7 [00:01<00:00,  6.16it/s]\n"
          ]
        },
        {
          "output_type": "stream",
          "name": "stdout",
          "text": [
            "Epoch 4:\n",
            "Train Loss: 0.4089, Train Acc: 83.60%\n",
            "Val Loss: 1.3224, Val Acc: 81.50%\n"
          ]
        },
        {
          "output_type": "stream",
          "name": "stderr",
          "text": [
            "Training: 100%|██████████| 32/32 [00:14<00:00,  2.23it/s]\n",
            "Validating: 100%|██████████| 7/7 [00:01<00:00,  6.18it/s]\n"
          ]
        },
        {
          "output_type": "stream",
          "name": "stdout",
          "text": [
            "Epoch 5:\n",
            "Train Loss: 0.3769, Train Acc: 83.90%\n",
            "Val Loss: 1.3071, Val Acc: 81.50%\n"
          ]
        },
        {
          "output_type": "stream",
          "name": "stderr",
          "text": [
            "100%|██████████| 1000/1000 [00:00<00:00, 2938.65it/s]\n",
            "100%|██████████| 200/200 [00:00<00:00, 2584.87it/s]\n",
            "Training: 100%|██████████| 32/32 [00:14<00:00,  2.20it/s]\n",
            "Validating: 100%|██████████| 7/7 [00:01<00:00,  6.04it/s]\n"
          ]
        },
        {
          "output_type": "stream",
          "name": "stdout",
          "text": [
            "Epoch 1:\n",
            "Train Loss: 0.5344, Train Acc: 77.90%\n",
            "Val Loss: 0.4987, Val Acc: 81.00%\n"
          ]
        },
        {
          "output_type": "stream",
          "name": "stderr",
          "text": [
            "Training: 100%|██████████| 32/32 [00:14<00:00,  2.20it/s]\n",
            "Validating: 100%|██████████| 7/7 [00:01<00:00,  6.09it/s]\n"
          ]
        },
        {
          "output_type": "stream",
          "name": "stdout",
          "text": [
            "Epoch 2:\n",
            "Train Loss: 0.4905, Train Acc: 80.10%\n",
            "Val Loss: 0.4955, Val Acc: 81.00%\n"
          ]
        },
        {
          "output_type": "stream",
          "name": "stderr",
          "text": [
            "Training: 100%|██████████| 32/32 [00:14<00:00,  2.23it/s]\n",
            "Validating: 100%|██████████| 7/7 [00:01<00:00,  6.25it/s]\n"
          ]
        },
        {
          "output_type": "stream",
          "name": "stdout",
          "text": [
            "Epoch 3:\n",
            "Train Loss: 0.4590, Train Acc: 80.20%\n",
            "Val Loss: 0.7939, Val Acc: 81.00%\n"
          ]
        },
        {
          "output_type": "stream",
          "name": "stderr",
          "text": [
            "Training: 100%|██████████| 32/32 [00:14<00:00,  2.21it/s]\n",
            "Validating: 100%|██████████| 7/7 [00:01<00:00,  5.95it/s]\n"
          ]
        },
        {
          "output_type": "stream",
          "name": "stdout",
          "text": [
            "Epoch 4:\n",
            "Train Loss: 0.4248, Train Acc: 81.50%\n",
            "Val Loss: 0.7776, Val Acc: 81.00%\n"
          ]
        },
        {
          "output_type": "stream",
          "name": "stderr",
          "text": [
            "Training: 100%|██████████| 32/32 [00:14<00:00,  2.22it/s]\n",
            "Validating: 100%|██████████| 7/7 [00:01<00:00,  6.16it/s]\n"
          ]
        },
        {
          "output_type": "stream",
          "name": "stdout",
          "text": [
            "Epoch 5:\n",
            "Train Loss: 0.3450, Train Acc: 84.20%\n",
            "Val Loss: 1.5431, Val Acc: 64.50%\n"
          ]
        },
        {
          "output_type": "stream",
          "name": "stderr",
          "text": [
            "100%|██████████| 1000/1000 [00:00<00:00, 2417.60it/s]\n",
            "100%|██████████| 200/200 [00:00<00:00, 2352.41it/s]\n",
            "Training: 100%|██████████| 32/32 [00:14<00:00,  2.21it/s]\n",
            "Validating: 100%|██████████| 7/7 [00:01<00:00,  6.08it/s]\n"
          ]
        },
        {
          "output_type": "stream",
          "name": "stdout",
          "text": [
            "Epoch 1:\n",
            "Train Loss: 0.4929, Train Acc: 80.40%\n",
            "Val Loss: 0.5544, Val Acc: 80.00%\n"
          ]
        },
        {
          "output_type": "stream",
          "name": "stderr",
          "text": [
            "Training: 100%|██████████| 32/32 [00:14<00:00,  2.19it/s]\n",
            "Validating: 100%|██████████| 7/7 [00:01<00:00,  6.14it/s]\n"
          ]
        },
        {
          "output_type": "stream",
          "name": "stdout",
          "text": [
            "Epoch 2:\n",
            "Train Loss: 0.4533, Train Acc: 82.40%\n",
            "Val Loss: 0.7124, Val Acc: 80.00%\n"
          ]
        },
        {
          "output_type": "stream",
          "name": "stderr",
          "text": [
            "Training: 100%|██████████| 32/32 [00:14<00:00,  2.23it/s]\n",
            "Validating: 100%|██████████| 7/7 [00:01<00:00,  6.09it/s]\n"
          ]
        },
        {
          "output_type": "stream",
          "name": "stdout",
          "text": [
            "Epoch 3:\n",
            "Train Loss: 0.3716, Train Acc: 84.20%\n",
            "Val Loss: 0.8068, Val Acc: 79.50%\n"
          ]
        },
        {
          "output_type": "stream",
          "name": "stderr",
          "text": [
            "Training: 100%|██████████| 32/32 [00:14<00:00,  2.22it/s]\n",
            "Validating: 100%|██████████| 7/7 [00:01<00:00,  5.88it/s]\n"
          ]
        },
        {
          "output_type": "stream",
          "name": "stdout",
          "text": [
            "Epoch 4:\n",
            "Train Loss: 0.3222, Train Acc: 87.70%\n",
            "Val Loss: 0.8908, Val Acc: 64.50%\n"
          ]
        },
        {
          "output_type": "stream",
          "name": "stderr",
          "text": [
            "Training: 100%|██████████| 32/32 [00:14<00:00,  2.21it/s]\n",
            "Validating: 100%|██████████| 7/7 [00:01<00:00,  5.43it/s]\n"
          ]
        },
        {
          "output_type": "stream",
          "name": "stdout",
          "text": [
            "Epoch 5:\n",
            "Train Loss: 0.2868, Train Acc: 88.50%\n",
            "Val Loss: 1.0831, Val Acc: 79.50%\n"
          ]
        },
        {
          "output_type": "stream",
          "name": "stderr",
          "text": [
            "100%|██████████| 1000/1000 [00:00<00:00, 2328.48it/s]\n",
            "100%|██████████| 200/200 [00:00<00:00, 2172.98it/s]\n",
            "Training: 100%|██████████| 32/32 [00:14<00:00,  2.23it/s]\n",
            "Validating: 100%|██████████| 7/7 [00:01<00:00,  6.14it/s]\n"
          ]
        },
        {
          "output_type": "stream",
          "name": "stdout",
          "text": [
            "Epoch 1:\n",
            "Train Loss: 0.4944, Train Acc: 81.40%\n",
            "Val Loss: 0.4912, Val Acc: 82.00%\n"
          ]
        },
        {
          "output_type": "stream",
          "name": "stderr",
          "text": [
            "Training: 100%|██████████| 32/32 [00:14<00:00,  2.21it/s]\n",
            "Validating: 100%|██████████| 7/7 [00:01<00:00,  6.05it/s]\n"
          ]
        },
        {
          "output_type": "stream",
          "name": "stdout",
          "text": [
            "Epoch 2:\n",
            "Train Loss: 0.4495, Train Acc: 81.40%\n",
            "Val Loss: 0.5447, Val Acc: 82.00%\n"
          ]
        },
        {
          "output_type": "stream",
          "name": "stderr",
          "text": [
            "Training: 100%|██████████| 32/32 [00:14<00:00,  2.22it/s]\n",
            "Validating: 100%|██████████| 7/7 [00:01<00:00,  6.17it/s]\n"
          ]
        },
        {
          "output_type": "stream",
          "name": "stdout",
          "text": [
            "Epoch 3:\n",
            "Train Loss: 0.4039, Train Acc: 83.10%\n",
            "Val Loss: 0.6356, Val Acc: 81.50%\n"
          ]
        },
        {
          "output_type": "stream",
          "name": "stderr",
          "text": [
            "Training: 100%|██████████| 32/32 [00:14<00:00,  2.21it/s]\n",
            "Validating: 100%|██████████| 7/7 [00:01<00:00,  6.17it/s]\n"
          ]
        },
        {
          "output_type": "stream",
          "name": "stdout",
          "text": [
            "Epoch 4:\n",
            "Train Loss: 0.3080, Train Acc: 87.40%\n",
            "Val Loss: 0.8314, Val Acc: 82.00%\n"
          ]
        },
        {
          "output_type": "stream",
          "name": "stderr",
          "text": [
            "Training: 100%|██████████| 32/32 [00:14<00:00,  2.22it/s]\n",
            "Validating: 100%|██████████| 7/7 [00:01<00:00,  5.02it/s]\n"
          ]
        },
        {
          "output_type": "stream",
          "name": "stdout",
          "text": [
            "Epoch 5:\n",
            "Train Loss: 0.2909, Train Acc: 87.90%\n",
            "Val Loss: 3.6441, Val Acc: 47.00%\n"
          ]
        },
        {
          "output_type": "stream",
          "name": "stderr",
          "text": [
            "100%|██████████| 1000/1000 [00:00<00:00, 1501.03it/s]\n",
            "100%|██████████| 200/200 [00:00<00:00, 2138.92it/s]\n",
            "Training: 100%|██████████| 32/32 [00:14<00:00,  2.22it/s]\n",
            "Validating: 100%|██████████| 7/7 [00:01<00:00,  6.11it/s]\n"
          ]
        },
        {
          "output_type": "stream",
          "name": "stdout",
          "text": [
            "Epoch 1:\n",
            "Train Loss: 0.5462, Train Acc: 78.90%\n",
            "Val Loss: 0.5287, Val Acc: 79.50%\n"
          ]
        },
        {
          "output_type": "stream",
          "name": "stderr",
          "text": [
            "Training: 100%|██████████| 32/32 [00:14<00:00,  2.20it/s]\n",
            "Validating: 100%|██████████| 7/7 [00:01<00:00,  5.48it/s]\n"
          ]
        },
        {
          "output_type": "stream",
          "name": "stdout",
          "text": [
            "Epoch 2:\n",
            "Train Loss: 0.4155, Train Acc: 80.90%\n",
            "Val Loss: 1.1437, Val Acc: 78.50%\n"
          ]
        },
        {
          "output_type": "stream",
          "name": "stderr",
          "text": [
            "Training: 100%|██████████| 32/32 [00:14<00:00,  2.20it/s]\n",
            "Validating: 100%|██████████| 7/7 [00:01<00:00,  6.03it/s]\n"
          ]
        },
        {
          "output_type": "stream",
          "name": "stdout",
          "text": [
            "Epoch 3:\n",
            "Train Loss: 0.3525, Train Acc: 85.50%\n",
            "Val Loss: 1.2779, Val Acc: 79.00%\n"
          ]
        },
        {
          "output_type": "stream",
          "name": "stderr",
          "text": [
            "Training: 100%|██████████| 32/32 [00:14<00:00,  2.22it/s]\n",
            "Validating: 100%|██████████| 7/7 [00:01<00:00,  6.26it/s]\n"
          ]
        },
        {
          "output_type": "stream",
          "name": "stdout",
          "text": [
            "Epoch 4:\n",
            "Train Loss: 0.3113, Train Acc: 88.10%\n",
            "Val Loss: 1.8708, Val Acc: 48.00%\n"
          ]
        },
        {
          "output_type": "stream",
          "name": "stderr",
          "text": [
            "Training: 100%|██████████| 32/32 [00:14<00:00,  2.22it/s]\n",
            "Validating: 100%|██████████| 7/7 [00:01<00:00,  5.93it/s]\n"
          ]
        },
        {
          "output_type": "stream",
          "name": "stdout",
          "text": [
            "Epoch 5:\n",
            "Train Loss: 0.2819, Train Acc: 88.70%\n",
            "Val Loss: 1.3026, Val Acc: 79.50%\n"
          ]
        },
        {
          "output_type": "stream",
          "name": "stderr",
          "text": [
            "100%|██████████| 1000/1000 [00:00<00:00, 1126.11it/s]\n",
            "100%|██████████| 200/200 [00:00<00:00, 1134.93it/s]\n",
            "Training: 100%|██████████| 32/32 [00:14<00:00,  2.23it/s]\n",
            "Validating: 100%|██████████| 7/7 [00:01<00:00,  6.07it/s]\n"
          ]
        },
        {
          "output_type": "stream",
          "name": "stdout",
          "text": [
            "Epoch 1:\n",
            "Train Loss: 0.5018, Train Acc: 80.10%\n",
            "Val Loss: 0.5681, Val Acc: 77.50%\n"
          ]
        },
        {
          "output_type": "stream",
          "name": "stderr",
          "text": [
            "Training: 100%|██████████| 32/32 [00:14<00:00,  2.21it/s]\n",
            "Validating: 100%|██████████| 7/7 [00:01<00:00,  6.21it/s]\n"
          ]
        },
        {
          "output_type": "stream",
          "name": "stdout",
          "text": [
            "Epoch 2:\n",
            "Train Loss: 0.3625, Train Acc: 82.00%\n",
            "Val Loss: 0.9680, Val Acc: 75.00%\n"
          ]
        },
        {
          "output_type": "stream",
          "name": "stderr",
          "text": [
            "Training: 100%|██████████| 32/32 [00:14<00:00,  2.21it/s]\n",
            "Validating: 100%|██████████| 7/7 [00:01<00:00,  5.74it/s]\n"
          ]
        },
        {
          "output_type": "stream",
          "name": "stdout",
          "text": [
            "Epoch 3:\n",
            "Train Loss: 0.2264, Train Acc: 91.20%\n",
            "Val Loss: 1.4990, Val Acc: 45.00%\n"
          ]
        },
        {
          "output_type": "stream",
          "name": "stderr",
          "text": [
            "Training: 100%|██████████| 32/32 [00:14<00:00,  2.21it/s]\n",
            "Validating: 100%|██████████| 7/7 [00:01<00:00,  6.07it/s]\n"
          ]
        },
        {
          "output_type": "stream",
          "name": "stdout",
          "text": [
            "Epoch 4:\n",
            "Train Loss: 0.2005, Train Acc: 92.00%\n",
            "Val Loss: 1.0016, Val Acc: 75.00%\n"
          ]
        },
        {
          "output_type": "stream",
          "name": "stderr",
          "text": [
            "Training: 100%|██████████| 32/32 [00:14<00:00,  2.22it/s]\n",
            "Validating: 100%|██████████| 7/7 [00:01<00:00,  6.06it/s]\n"
          ]
        },
        {
          "output_type": "stream",
          "name": "stdout",
          "text": [
            "Epoch 5:\n",
            "Train Loss: 0.1942, Train Acc: 92.30%\n",
            "Val Loss: 1.2581, Val Acc: 76.50%\n"
          ]
        },
        {
          "output_type": "stream",
          "name": "stderr",
          "text": [
            "100%|██████████| 1000/1000 [00:00<00:00, 1737.64it/s]\n",
            "100%|██████████| 200/200 [00:00<00:00, 1616.73it/s]\n",
            "Training: 100%|██████████| 32/32 [00:14<00:00,  2.19it/s]\n",
            "Validating: 100%|██████████| 7/7 [00:01<00:00,  6.05it/s]\n"
          ]
        },
        {
          "output_type": "stream",
          "name": "stdout",
          "text": [
            "Epoch 1:\n",
            "Train Loss: 0.5198, Train Acc: 78.90%\n",
            "Val Loss: 0.4504, Val Acc: 83.00%\n"
          ]
        },
        {
          "output_type": "stream",
          "name": "stderr",
          "text": [
            "Training: 100%|██████████| 32/32 [00:14<00:00,  2.20it/s]\n",
            "Validating: 100%|██████████| 7/7 [00:01<00:00,  6.08it/s]\n"
          ]
        },
        {
          "output_type": "stream",
          "name": "stdout",
          "text": [
            "Epoch 2:\n",
            "Train Loss: 0.3615, Train Acc: 83.10%\n",
            "Val Loss: 1.2967, Val Acc: 83.00%\n"
          ]
        },
        {
          "output_type": "stream",
          "name": "stderr",
          "text": [
            "Training: 100%|██████████| 32/32 [00:14<00:00,  2.21it/s]\n",
            "Validating: 100%|██████████| 7/7 [00:01<00:00,  5.89it/s]\n"
          ]
        },
        {
          "output_type": "stream",
          "name": "stdout",
          "text": [
            "Epoch 3:\n",
            "Train Loss: 0.2193, Train Acc: 92.40%\n",
            "Val Loss: 1.3055, Val Acc: 83.00%\n"
          ]
        },
        {
          "output_type": "stream",
          "name": "stderr",
          "text": [
            "Training: 100%|██████████| 32/32 [00:14<00:00,  2.18it/s]\n",
            "Validating: 100%|██████████| 7/7 [00:01<00:00,  5.92it/s]\n"
          ]
        },
        {
          "output_type": "stream",
          "name": "stdout",
          "text": [
            "Epoch 4:\n",
            "Train Loss: 0.2357, Train Acc: 92.30%\n",
            "Val Loss: 0.9966, Val Acc: 76.50%\n"
          ]
        },
        {
          "output_type": "stream",
          "name": "stderr",
          "text": [
            "Training: 100%|██████████| 32/32 [00:14<00:00,  2.20it/s]\n",
            "Validating: 100%|██████████| 7/7 [00:01<00:00,  6.11it/s]"
          ]
        },
        {
          "output_type": "stream",
          "name": "stdout",
          "text": [
            "Epoch 5:\n",
            "Train Loss: 0.2132, Train Acc: 92.40%\n",
            "Val Loss: 1.3654, Val Acc: 61.50%\n"
          ]
        },
        {
          "output_type": "stream",
          "name": "stderr",
          "text": [
            "\n"
          ]
        }
      ]
    },
    {
      "cell_type": "code",
      "source": [
        "plt.plot(noises, best_acc_tv)\n",
        "plt.xlabel('Noise')\n",
        "plt.ylabel('Accuracy')\n",
        "plt.title(f'Accuracy vs TV Noise (Max {max(best_acc_tv)}%)')\n",
        "plt.show()"
      ],
      "metadata": {
        "colab": {
          "base_uri": "https://localhost:8080/",
          "height": 472
        },
        "id": "vDSGCSOyFFb8",
        "outputId": "d93c6fb7-5282-401f-9cb3-6677dddd3b07"
      },
      "execution_count": 5,
      "outputs": [
        {
          "output_type": "display_data",
          "data": {
            "text/plain": [
              "<Figure size 640x480 with 1 Axes>"
            ],
            "image/png": "[encoded data removed]"
          },
          "metadata": {}
        }
      ]
    },
    {
      "cell_type": "code",
      "source": [
        "noises = [0.01, 0.05, 0.1, 0.2, 0.25, 0.3, 0.4, 0.5, 0.6, 0.7, 0.75]\n",
        "best_acc_shape = []\n",
        "def main():\n",
        "  for n in noises:\n",
        "    train_dataset = ShapesDataset(num_samples=1000, transform=transform, split='train', noise=(0.1,n,0.1))\n",
        "    test_dataset = ShapesDataset(num_samples=200, transform=transform, split='test', noise=(0.1,n,0.1))\n",
        "\n",
        "    train_loader = DataLoader(train_dataset, batch_size=32, shuffle=True, num_workers=2)\n",
        "    test_loader = DataLoader(test_dataset, batch_size=32, shuffle=False, num_workers=2)\n",
        "\n",
        "    model = VQAModel(num_classes=2).to(device)\n",
        "    criterion = nn.CrossEntropyLoss()\n",
        "    optimizer = optim.Adam(model.parameters(), lr=0.0001)\n",
        "\n",
        "    best_acc_test = 0\n",
        "    best_acc = 0\n",
        "    for epoch in range(5):\n",
        "        train_loss, train_acc = train_one_epoch(model, train_loader, criterion,\n",
        "                                            optimizer, device)\n",
        "        test_loss, test_acc = validate(model, test_loader, criterion, device)\n",
        "\n",
        "        print(f'Epoch {epoch+1}:')\n",
        "        print(f'Train Loss: {train_loss:.4f}, Train Acc: {train_acc:.2f}%')\n",
        "        print(f'Val Loss: {test_loss:.4f}, Val Acc: {test_acc:.2f}%')\n",
        "\n",
        "        if test_acc > best_acc_test:\n",
        "            best_acc_test = test_acc\n",
        "\n",
        "        if test_acc > best_acc:\n",
        "            best_acc = test_acc\n",
        "            torch.save(model.state_dict(), 'best_shape_model_by_noise.pth')\n",
        "\n",
        "    best_acc_shape.append(best_acc_test)\n",
        "\n",
        "\n",
        "if __name__ == '__main__':\n",
        "  main()"
      ],
      "metadata": {
        "colab": {
          "base_uri": "https://localhost:8080/"
        },
        "id": "xmnm21v6IcgU",
        "outputId": "415a5ed6-1545-406c-e7a7-8819782b9f86",
        "collapsed": true
      },
      "execution_count": 6,
      "outputs": [
        {
          "output_type": "stream",
          "name": "stderr",
          "text": [
            "100%|██████████| 1000/1000 [00:00<00:00, 4701.81it/s]\n",
            "100%|██████████| 200/200 [00:00<00:00, 4015.24it/s]\n",
            "Training: 100%|██████████| 32/32 [00:14<00:00,  2.24it/s]\n",
            "Validating: 100%|██████████| 7/7 [00:01<00:00,  5.91it/s]\n"
          ]
        },
        {
          "output_type": "stream",
          "name": "stdout",
          "text": [
            "Epoch 1:\n",
            "Train Loss: 0.3631, Train Acc: 90.10%\n",
            "Val Loss: 0.3400, Val Acc: 88.00%\n"
          ]
        },
        {
          "output_type": "stream",
          "name": "stderr",
          "text": [
            "Training: 100%|██████████| 32/32 [00:14<00:00,  2.23it/s]\n",
            "Validating: 100%|██████████| 7/7 [00:01<00:00,  6.27it/s]\n"
          ]
        },
        {
          "output_type": "stream",
          "name": "stdout",
          "text": [
            "Epoch 2:\n",
            "Train Loss: 0.3038, Train Acc: 91.10%\n",
            "Val Loss: 0.3647, Val Acc: 88.00%\n"
          ]
        },
        {
          "output_type": "stream",
          "name": "stderr",
          "text": [
            "Training: 100%|██████████| 32/32 [00:14<00:00,  2.24it/s]\n",
            "Validating: 100%|██████████| 7/7 [00:01<00:00,  6.22it/s]\n"
          ]
        },
        {
          "output_type": "stream",
          "name": "stdout",
          "text": [
            "Epoch 3:\n",
            "Train Loss: 0.2882, Train Acc: 91.10%\n",
            "Val Loss: 0.3897, Val Acc: 88.00%\n"
          ]
        },
        {
          "output_type": "stream",
          "name": "stderr",
          "text": [
            "Training: 100%|██████████| 32/32 [00:14<00:00,  2.24it/s]\n",
            "Validating: 100%|██████████| 7/7 [00:01<00:00,  6.26it/s]\n"
          ]
        },
        {
          "output_type": "stream",
          "name": "stdout",
          "text": [
            "Epoch 4:\n",
            "Train Loss: 0.2766, Train Acc: 91.10%\n",
            "Val Loss: 0.3971, Val Acc: 88.00%\n"
          ]
        },
        {
          "output_type": "stream",
          "name": "stderr",
          "text": [
            "Training: 100%|██████████| 32/32 [00:14<00:00,  2.23it/s]\n",
            "Validating: 100%|██████████| 7/7 [00:01<00:00,  5.61it/s]\n"
          ]
        },
        {
          "output_type": "stream",
          "name": "stdout",
          "text": [
            "Epoch 5:\n",
            "Train Loss: 0.2581, Train Acc: 91.10%\n",
            "Val Loss: 0.5199, Val Acc: 88.00%\n"
          ]
        },
        {
          "output_type": "stream",
          "name": "stderr",
          "text": [
            "100%|██████████| 1000/1000 [00:00<00:00, 4412.32it/s]\n",
            "100%|██████████| 200/200 [00:00<00:00, 3726.45it/s]\n",
            "Training: 100%|██████████| 32/32 [00:14<00:00,  2.21it/s]\n",
            "Validating: 100%|██████████| 7/7 [00:01<00:00,  6.17it/s]\n"
          ]
        },
        {
          "output_type": "stream",
          "name": "stdout",
          "text": [
            "Epoch 1:\n",
            "Train Loss: 0.4718, Train Acc: 83.10%\n",
            "Val Loss: 0.4380, Val Acc: 85.50%\n"
          ]
        },
        {
          "output_type": "stream",
          "name": "stderr",
          "text": [
            "Training: 100%|██████████| 32/32 [00:14<00:00,  2.21it/s]\n",
            "Validating: 100%|██████████| 7/7 [00:01<00:00,  6.09it/s]\n"
          ]
        },
        {
          "output_type": "stream",
          "name": "stdout",
          "text": [
            "Epoch 2:\n",
            "Train Loss: 0.4095, Train Acc: 85.10%\n",
            "Val Loss: 0.4596, Val Acc: 85.50%\n"
          ]
        },
        {
          "output_type": "stream",
          "name": "stderr",
          "text": [
            "Training: 100%|██████████| 32/32 [00:14<00:00,  2.22it/s]\n",
            "Validating: 100%|██████████| 7/7 [00:01<00:00,  6.26it/s]\n"
          ]
        },
        {
          "output_type": "stream",
          "name": "stdout",
          "text": [
            "Epoch 3:\n",
            "Train Loss: 0.4134, Train Acc: 85.10%\n",
            "Val Loss: 0.4303, Val Acc: 85.50%\n"
          ]
        },
        {
          "output_type": "stream",
          "name": "stderr",
          "text": [
            "Training: 100%|██████████| 32/32 [00:14<00:00,  2.23it/s]\n",
            "Validating: 100%|██████████| 7/7 [00:01<00:00,  6.21it/s]\n"
          ]
        },
        {
          "output_type": "stream",
          "name": "stdout",
          "text": [
            "Epoch 4:\n",
            "Train Loss: 0.3878, Train Acc: 85.10%\n",
            "Val Loss: 0.5070, Val Acc: 85.50%\n"
          ]
        },
        {
          "output_type": "stream",
          "name": "stderr",
          "text": [
            "Training: 100%|██████████| 32/32 [00:14<00:00,  2.23it/s]\n",
            "Validating: 100%|██████████| 7/7 [00:01<00:00,  5.28it/s]\n"
          ]
        },
        {
          "output_type": "stream",
          "name": "stdout",
          "text": [
            "Epoch 5:\n",
            "Train Loss: 0.3770, Train Acc: 85.10%\n",
            "Val Loss: 0.4572, Val Acc: 85.50%\n"
          ]
        },
        {
          "output_type": "stream",
          "name": "stderr",
          "text": [
            "100%|██████████| 1000/1000 [00:00<00:00, 2588.14it/s]\n",
            "100%|██████████| 200/200 [00:00<00:00, 3314.00it/s]\n",
            "Training: 100%|██████████| 32/32 [00:14<00:00,  2.22it/s]\n",
            "Validating: 100%|██████████| 7/7 [00:01<00:00,  6.26it/s]\n"
          ]
        },
        {
          "output_type": "stream",
          "name": "stdout",
          "text": [
            "Epoch 1:\n",
            "Train Loss: 0.5419, Train Acc: 78.70%\n",
            "Val Loss: 0.5016, Val Acc: 81.00%\n"
          ]
        },
        {
          "output_type": "stream",
          "name": "stderr",
          "text": [
            "Training: 100%|██████████| 32/32 [00:14<00:00,  2.15it/s]\n",
            "Validating: 100%|██████████| 7/7 [00:01<00:00,  5.26it/s]\n"
          ]
        },
        {
          "output_type": "stream",
          "name": "stdout",
          "text": [
            "Epoch 2:\n",
            "Train Loss: 0.5150, Train Acc: 79.60%\n",
            "Val Loss: 0.4946, Val Acc: 81.00%\n"
          ]
        },
        {
          "output_type": "stream",
          "name": "stderr",
          "text": [
            "Training: 100%|██████████| 32/32 [00:14<00:00,  2.21it/s]\n",
            "Validating: 100%|██████████| 7/7 [00:01<00:00,  5.89it/s]\n"
          ]
        },
        {
          "output_type": "stream",
          "name": "stdout",
          "text": [
            "Epoch 3:\n",
            "Train Loss: 0.4949, Train Acc: 79.60%\n",
            "Val Loss: 0.5574, Val Acc: 81.00%\n"
          ]
        },
        {
          "output_type": "stream",
          "name": "stderr",
          "text": [
            "Training: 100%|██████████| 32/32 [00:14<00:00,  2.22it/s]\n",
            "Validating: 100%|██████████| 7/7 [00:01<00:00,  6.03it/s]\n"
          ]
        },
        {
          "output_type": "stream",
          "name": "stdout",
          "text": [
            "Epoch 4:\n",
            "Train Loss: 0.4849, Train Acc: 79.60%\n",
            "Val Loss: 0.5093, Val Acc: 81.00%\n"
          ]
        },
        {
          "output_type": "stream",
          "name": "stderr",
          "text": [
            "Training: 100%|██████████| 32/32 [00:14<00:00,  2.24it/s]\n",
            "Validating: 100%|██████████| 7/7 [00:01<00:00,  5.56it/s]\n"
          ]
        },
        {
          "output_type": "stream",
          "name": "stdout",
          "text": [
            "Epoch 5:\n",
            "Train Loss: 0.4840, Train Acc: 79.60%\n",
            "Val Loss: 0.4911, Val Acc: 81.00%\n"
          ]
        },
        {
          "output_type": "stream",
          "name": "stderr",
          "text": [
            "100%|██████████| 1000/1000 [00:00<00:00, 2935.50it/s]\n",
            "100%|██████████| 200/200 [00:00<00:00, 3433.34it/s]\n",
            "Training: 100%|██████████| 32/32 [00:14<00:00,  2.20it/s]\n",
            "Validating: 100%|██████████| 7/7 [00:01<00:00,  6.07it/s]\n"
          ]
        },
        {
          "output_type": "stream",
          "name": "stdout",
          "text": [
            "Epoch 1:\n",
            "Train Loss: 0.5724, Train Acc: 75.00%\n",
            "Val Loss: 0.5765, Val Acc: 74.50%\n"
          ]
        },
        {
          "output_type": "stream",
          "name": "stderr",
          "text": [
            "Training: 100%|██████████| 32/32 [00:14<00:00,  2.21it/s]\n",
            "Validating: 100%|██████████| 7/7 [00:01<00:00,  6.15it/s]\n"
          ]
        },
        {
          "output_type": "stream",
          "name": "stdout",
          "text": [
            "Epoch 2:\n",
            "Train Loss: 0.5713, Train Acc: 75.10%\n",
            "Val Loss: 0.5894, Val Acc: 74.50%\n"
          ]
        },
        {
          "output_type": "stream",
          "name": "stderr",
          "text": [
            "Training: 100%|██████████| 32/32 [00:14<00:00,  2.20it/s]\n",
            "Validating: 100%|██████████| 7/7 [00:01<00:00,  5.91it/s]\n"
          ]
        },
        {
          "output_type": "stream",
          "name": "stdout",
          "text": [
            "Epoch 3:\n",
            "Train Loss: 0.5523, Train Acc: 75.10%\n",
            "Val Loss: 0.7216, Val Acc: 74.50%\n"
          ]
        },
        {
          "output_type": "stream",
          "name": "stderr",
          "text": [
            "Training: 100%|██████████| 32/32 [00:14<00:00,  2.22it/s]\n",
            "Validating: 100%|██████████| 7/7 [00:01<00:00,  6.17it/s]\n"
          ]
        },
        {
          "output_type": "stream",
          "name": "stdout",
          "text": [
            "Epoch 4:\n",
            "Train Loss: 0.5508, Train Acc: 75.10%\n",
            "Val Loss: 0.6901, Val Acc: 74.50%\n"
          ]
        },
        {
          "output_type": "stream",
          "name": "stderr",
          "text": [
            "Training: 100%|██████████| 32/32 [00:14<00:00,  2.23it/s]\n",
            "Validating: 100%|██████████| 7/7 [00:01<00:00,  6.27it/s]\n"
          ]
        },
        {
          "output_type": "stream",
          "name": "stdout",
          "text": [
            "Epoch 5:\n",
            "Train Loss: 0.5569, Train Acc: 75.10%\n",
            "Val Loss: 0.6195, Val Acc: 74.50%\n"
          ]
        },
        {
          "output_type": "stream",
          "name": "stderr",
          "text": [
            "100%|██████████| 1000/1000 [00:00<00:00, 4559.21it/s]\n",
            "100%|██████████| 200/200 [00:00<00:00, 3833.22it/s]\n",
            "Training: 100%|██████████| 32/32 [00:14<00:00,  2.23it/s]\n",
            "Validating: 100%|██████████| 7/7 [00:01<00:00,  5.56it/s]\n"
          ]
        },
        {
          "output_type": "stream",
          "name": "stdout",
          "text": [
            "Epoch 1:\n",
            "Train Loss: 0.6634, Train Acc: 65.80%\n",
            "Val Loss: 0.6636, Val Acc: 65.50%\n"
          ]
        },
        {
          "output_type": "stream",
          "name": "stderr",
          "text": [
            "Training: 100%|██████████| 32/32 [00:14<00:00,  2.23it/s]\n",
            "Validating: 100%|██████████| 7/7 [00:01<00:00,  6.09it/s]\n"
          ]
        },
        {
          "output_type": "stream",
          "name": "stdout",
          "text": [
            "Epoch 2:\n",
            "Train Loss: 0.6227, Train Acc: 68.20%\n",
            "Val Loss: 0.6694, Val Acc: 65.50%\n"
          ]
        },
        {
          "output_type": "stream",
          "name": "stderr",
          "text": [
            "Training: 100%|██████████| 32/32 [00:14<00:00,  2.21it/s]\n",
            "Validating: 100%|██████████| 7/7 [00:01<00:00,  5.05it/s]\n"
          ]
        },
        {
          "output_type": "stream",
          "name": "stdout",
          "text": [
            "Epoch 3:\n",
            "Train Loss: 0.6218, Train Acc: 68.20%\n",
            "Val Loss: 0.6805, Val Acc: 65.50%\n"
          ]
        },
        {
          "output_type": "stream",
          "name": "stderr",
          "text": [
            "Training: 100%|██████████| 32/32 [00:14<00:00,  2.20it/s]\n",
            "Validating: 100%|██████████| 7/7 [00:01<00:00,  6.05it/s]\n"
          ]
        },
        {
          "output_type": "stream",
          "name": "stdout",
          "text": [
            "Epoch 4:\n",
            "Train Loss: 0.6266, Train Acc: 68.20%\n",
            "Val Loss: 0.6642, Val Acc: 65.50%\n"
          ]
        },
        {
          "output_type": "stream",
          "name": "stderr",
          "text": [
            "Training: 100%|██████████| 32/32 [00:14<00:00,  2.23it/s]\n",
            "Validating: 100%|██████████| 7/7 [00:01<00:00,  6.13it/s]\n"
          ]
        },
        {
          "output_type": "stream",
          "name": "stdout",
          "text": [
            "Epoch 5:\n",
            "Train Loss: 0.6094, Train Acc: 68.20%\n",
            "Val Loss: 0.6771, Val Acc: 65.50%\n"
          ]
        },
        {
          "output_type": "stream",
          "name": "stderr",
          "text": [
            "100%|██████████| 1000/1000 [00:00<00:00, 3789.91it/s]\n",
            "100%|██████████| 200/200 [00:00<00:00, 3962.37it/s]\n",
            "Training: 100%|██████████| 32/32 [00:14<00:00,  2.21it/s]\n",
            "Validating: 100%|██████████| 7/7 [00:01<00:00,  5.22it/s]\n"
          ]
        },
        {
          "output_type": "stream",
          "name": "stdout",
          "text": [
            "Epoch 1:\n",
            "Train Loss: 0.6716, Train Acc: 63.10%\n",
            "Val Loss: 0.6423, Val Acc: 64.50%\n"
          ]
        },
        {
          "output_type": "stream",
          "name": "stderr",
          "text": [
            "Training: 100%|██████████| 32/32 [00:14<00:00,  2.21it/s]\n",
            "Validating: 100%|██████████| 7/7 [00:01<00:00,  6.01it/s]\n"
          ]
        },
        {
          "output_type": "stream",
          "name": "stdout",
          "text": [
            "Epoch 2:\n",
            "Train Loss: 0.6612, Train Acc: 63.50%\n",
            "Val Loss: 0.6489, Val Acc: 64.50%\n"
          ]
        },
        {
          "output_type": "stream",
          "name": "stderr",
          "text": [
            "Training: 100%|██████████| 32/32 [00:14<00:00,  2.22it/s]\n",
            "Validating: 100%|██████████| 7/7 [00:01<00:00,  6.09it/s]\n"
          ]
        },
        {
          "output_type": "stream",
          "name": "stdout",
          "text": [
            "Epoch 3:\n",
            "Train Loss: 0.6492, Train Acc: 63.50%\n",
            "Val Loss: 0.6446, Val Acc: 64.50%\n"
          ]
        },
        {
          "output_type": "stream",
          "name": "stderr",
          "text": [
            "Training: 100%|██████████| 32/32 [00:14<00:00,  2.20it/s]\n",
            "Validating: 100%|██████████| 7/7 [00:01<00:00,  4.89it/s]\n"
          ]
        },
        {
          "output_type": "stream",
          "name": "stdout",
          "text": [
            "Epoch 4:\n",
            "Train Loss: 0.6587, Train Acc: 63.50%\n",
            "Val Loss: 0.6371, Val Acc: 64.50%\n"
          ]
        },
        {
          "output_type": "stream",
          "name": "stderr",
          "text": [
            "Training: 100%|██████████| 32/32 [00:14<00:00,  2.21it/s]\n",
            "Validating: 100%|██████████| 7/7 [00:01<00:00,  6.10it/s]\n"
          ]
        },
        {
          "output_type": "stream",
          "name": "stdout",
          "text": [
            "Epoch 5:\n",
            "Train Loss: 0.6426, Train Acc: 63.50%\n",
            "Val Loss: 0.7527, Val Acc: 64.50%\n"
          ]
        },
        {
          "output_type": "stream",
          "name": "stderr",
          "text": [
            "100%|██████████| 1000/1000 [00:00<00:00, 4325.80it/s]\n",
            "100%|██████████| 200/200 [00:00<00:00, 4010.33it/s]\n",
            "Training: 100%|██████████| 32/32 [00:14<00:00,  2.23it/s]\n",
            "Validating: 100%|██████████| 7/7 [00:01<00:00,  5.91it/s]\n"
          ]
        },
        {
          "output_type": "stream",
          "name": "stdout",
          "text": [
            "Epoch 1:\n",
            "Train Loss: 0.6977, Train Acc: 50.40%\n",
            "Val Loss: 0.6882, Val Acc: 56.50%\n"
          ]
        },
        {
          "output_type": "stream",
          "name": "stderr",
          "text": [
            "Training: 100%|██████████| 32/32 [00:14<00:00,  2.20it/s]\n",
            "Validating: 100%|██████████| 7/7 [00:01<00:00,  5.90it/s]\n"
          ]
        },
        {
          "output_type": "stream",
          "name": "stdout",
          "text": [
            "Epoch 2:\n",
            "Train Loss: 0.6920, Train Acc: 52.80%\n",
            "Val Loss: 0.6897, Val Acc: 56.50%\n"
          ]
        },
        {
          "output_type": "stream",
          "name": "stderr",
          "text": [
            "Training: 100%|██████████| 32/32 [00:14<00:00,  2.22it/s]\n",
            "Validating: 100%|██████████| 7/7 [00:01<00:00,  6.04it/s]\n"
          ]
        },
        {
          "output_type": "stream",
          "name": "stdout",
          "text": [
            "Epoch 3:\n",
            "Train Loss: 0.6833, Train Acc: 53.60%\n",
            "Val Loss: 0.6883, Val Acc: 58.00%\n"
          ]
        },
        {
          "output_type": "stream",
          "name": "stderr",
          "text": [
            "Training: 100%|██████████| 32/32 [00:14<00:00,  2.20it/s]\n",
            "Validating: 100%|██████████| 7/7 [00:01<00:00,  5.99it/s]\n"
          ]
        },
        {
          "output_type": "stream",
          "name": "stdout",
          "text": [
            "Epoch 4:\n",
            "Train Loss: 0.6867, Train Acc: 54.70%\n",
            "Val Loss: 0.6919, Val Acc: 61.50%\n"
          ]
        },
        {
          "output_type": "stream",
          "name": "stderr",
          "text": [
            "Training: 100%|██████████| 32/32 [00:14<00:00,  2.22it/s]\n",
            "Validating: 100%|██████████| 7/7 [00:01<00:00,  6.05it/s]\n"
          ]
        },
        {
          "output_type": "stream",
          "name": "stdout",
          "text": [
            "Epoch 5:\n",
            "Train Loss: 0.6721, Train Acc: 58.30%\n",
            "Val Loss: 0.7645, Val Acc: 58.50%\n"
          ]
        },
        {
          "output_type": "stream",
          "name": "stderr",
          "text": [
            "100%|██████████| 1000/1000 [00:00<00:00, 4241.41it/s]\n",
            "100%|██████████| 200/200 [00:00<00:00, 4500.50it/s]\n",
            "Training: 100%|██████████| 32/32 [00:14<00:00,  2.23it/s]\n",
            "Validating: 100%|██████████| 7/7 [00:01<00:00,  5.74it/s]\n"
          ]
        },
        {
          "output_type": "stream",
          "name": "stdout",
          "text": [
            "Epoch 1:\n",
            "Train Loss: 0.6959, Train Acc: 55.60%\n",
            "Val Loss: 0.6962, Val Acc: 50.50%\n"
          ]
        },
        {
          "output_type": "stream",
          "name": "stderr",
          "text": [
            "Training: 100%|██████████| 32/32 [00:14<00:00,  2.21it/s]\n",
            "Validating: 100%|██████████| 7/7 [00:01<00:00,  6.16it/s]\n"
          ]
        },
        {
          "output_type": "stream",
          "name": "stdout",
          "text": [
            "Epoch 2:\n",
            "Train Loss: 0.6855, Train Acc: 56.00%\n",
            "Val Loss: 0.7165, Val Acc: 52.50%\n"
          ]
        },
        {
          "output_type": "stream",
          "name": "stderr",
          "text": [
            "Training: 100%|██████████| 32/32 [00:14<00:00,  2.21it/s]\n",
            "Validating: 100%|██████████| 7/7 [00:01<00:00,  5.82it/s]\n"
          ]
        },
        {
          "output_type": "stream",
          "name": "stdout",
          "text": [
            "Epoch 3:\n",
            "Train Loss: 0.6735, Train Acc: 58.40%\n",
            "Val Loss: 0.7318, Val Acc: 51.50%\n"
          ]
        },
        {
          "output_type": "stream",
          "name": "stderr",
          "text": [
            "Training: 100%|██████████| 32/32 [00:14<00:00,  2.22it/s]\n",
            "Validating: 100%|██████████| 7/7 [00:01<00:00,  6.09it/s]\n"
          ]
        },
        {
          "output_type": "stream",
          "name": "stdout",
          "text": [
            "Epoch 4:\n",
            "Train Loss: 0.6677, Train Acc: 59.90%\n",
            "Val Loss: 0.7096, Val Acc: 52.50%\n"
          ]
        },
        {
          "output_type": "stream",
          "name": "stderr",
          "text": [
            "Training: 100%|██████████| 32/32 [00:14<00:00,  2.24it/s]\n",
            "Validating: 100%|██████████| 7/7 [00:01<00:00,  6.06it/s]\n"
          ]
        },
        {
          "output_type": "stream",
          "name": "stdout",
          "text": [
            "Epoch 5:\n",
            "Train Loss: 0.6655, Train Acc: 58.00%\n",
            "Val Loss: 0.6963, Val Acc: 47.50%\n"
          ]
        },
        {
          "output_type": "stream",
          "name": "stderr",
          "text": [
            "100%|██████████| 1000/1000 [00:00<00:00, 4244.71it/s]\n",
            "100%|██████████| 200/200 [00:00<00:00, 3744.86it/s]\n",
            "Training: 100%|██████████| 32/32 [00:14<00:00,  2.23it/s]\n",
            "Validating: 100%|██████████| 7/7 [00:01<00:00,  5.85it/s]\n"
          ]
        },
        {
          "output_type": "stream",
          "name": "stdout",
          "text": [
            "Epoch 1:\n",
            "Train Loss: 0.6614, Train Acc: 63.60%\n",
            "Val Loss: 0.6717, Val Acc: 59.00%\n"
          ]
        },
        {
          "output_type": "stream",
          "name": "stderr",
          "text": [
            "Training: 100%|██████████| 32/32 [00:14<00:00,  2.22it/s]\n",
            "Validating: 100%|██████████| 7/7 [00:01<00:00,  6.06it/s]\n"
          ]
        },
        {
          "output_type": "stream",
          "name": "stdout",
          "text": [
            "Epoch 2:\n",
            "Train Loss: 0.6520, Train Acc: 64.60%\n",
            "Val Loss: 0.8174, Val Acc: 59.00%\n"
          ]
        },
        {
          "output_type": "stream",
          "name": "stderr",
          "text": [
            "Training: 100%|██████████| 32/32 [00:14<00:00,  2.22it/s]\n",
            "Validating: 100%|██████████| 7/7 [00:01<00:00,  6.06it/s]\n"
          ]
        },
        {
          "output_type": "stream",
          "name": "stdout",
          "text": [
            "Epoch 3:\n",
            "Train Loss: 0.6362, Train Acc: 64.60%\n",
            "Val Loss: 0.7002, Val Acc: 59.00%\n"
          ]
        },
        {
          "output_type": "stream",
          "name": "stderr",
          "text": [
            "Training: 100%|██████████| 32/32 [00:14<00:00,  2.22it/s]\n",
            "Validating: 100%|██████████| 7/7 [00:01<00:00,  5.88it/s]\n"
          ]
        },
        {
          "output_type": "stream",
          "name": "stdout",
          "text": [
            "Epoch 4:\n",
            "Train Loss: 0.6357, Train Acc: 64.60%\n",
            "Val Loss: 0.7356, Val Acc: 59.00%\n"
          ]
        },
        {
          "output_type": "stream",
          "name": "stderr",
          "text": [
            "Training: 100%|██████████| 32/32 [00:14<00:00,  2.21it/s]\n",
            "Validating: 100%|██████████| 7/7 [00:01<00:00,  6.09it/s]\n"
          ]
        },
        {
          "output_type": "stream",
          "name": "stdout",
          "text": [
            "Epoch 5:\n",
            "Train Loss: 0.6293, Train Acc: 64.60%\n",
            "Val Loss: 0.7601, Val Acc: 60.00%\n"
          ]
        },
        {
          "output_type": "stream",
          "name": "stderr",
          "text": [
            "100%|██████████| 1000/1000 [00:00<00:00, 4453.23it/s]\n",
            "100%|██████████| 200/200 [00:00<00:00, 4204.92it/s]\n",
            "Training: 100%|██████████| 32/32 [00:14<00:00,  2.23it/s]\n",
            "Validating: 100%|██████████| 7/7 [00:01<00:00,  5.80it/s]\n"
          ]
        },
        {
          "output_type": "stream",
          "name": "stdout",
          "text": [
            "Epoch 1:\n",
            "Train Loss: 0.5959, Train Acc: 72.40%\n",
            "Val Loss: 0.6688, Val Acc: 75.00%\n"
          ]
        },
        {
          "output_type": "stream",
          "name": "stderr",
          "text": [
            "Training: 100%|██████████| 32/32 [00:14<00:00,  2.21it/s]\n",
            "Validating: 100%|██████████| 7/7 [00:01<00:00,  5.90it/s]\n"
          ]
        },
        {
          "output_type": "stream",
          "name": "stdout",
          "text": [
            "Epoch 2:\n",
            "Train Loss: 0.5863, Train Acc: 72.50%\n",
            "Val Loss: 0.5617, Val Acc: 75.00%\n"
          ]
        },
        {
          "output_type": "stream",
          "name": "stderr",
          "text": [
            "Training: 100%|██████████| 32/32 [00:14<00:00,  2.18it/s]\n",
            "Validating: 100%|██████████| 7/7 [00:01<00:00,  6.00it/s]\n"
          ]
        },
        {
          "output_type": "stream",
          "name": "stdout",
          "text": [
            "Epoch 3:\n",
            "Train Loss: 0.5655, Train Acc: 72.50%\n",
            "Val Loss: 0.6052, Val Acc: 75.00%\n"
          ]
        },
        {
          "output_type": "stream",
          "name": "stderr",
          "text": [
            "Training: 100%|██████████| 32/32 [00:14<00:00,  2.20it/s]\n",
            "Validating: 100%|██████████| 7/7 [00:01<00:00,  5.53it/s]\n"
          ]
        },
        {
          "output_type": "stream",
          "name": "stdout",
          "text": [
            "Epoch 4:\n",
            "Train Loss: 0.5679, Train Acc: 72.50%\n",
            "Val Loss: 0.7403, Val Acc: 75.00%\n"
          ]
        },
        {
          "output_type": "stream",
          "name": "stderr",
          "text": [
            "Training: 100%|██████████| 32/32 [00:14<00:00,  2.23it/s]\n",
            "Validating: 100%|██████████| 7/7 [00:01<00:00,  5.60it/s]\n"
          ]
        },
        {
          "output_type": "stream",
          "name": "stdout",
          "text": [
            "Epoch 5:\n",
            "Train Loss: 0.5537, Train Acc: 72.50%\n",
            "Val Loss: 0.6684, Val Acc: 75.00%\n"
          ]
        },
        {
          "output_type": "stream",
          "name": "stderr",
          "text": [
            "100%|██████████| 1000/1000 [00:00<00:00, 4162.99it/s]\n",
            "100%|██████████| 200/200 [00:00<00:00, 3949.46it/s]\n",
            "Training: 100%|██████████| 32/32 [00:14<00:00,  2.22it/s]\n",
            "Validating: 100%|██████████| 7/7 [00:01<00:00,  5.82it/s]\n"
          ]
        },
        {
          "output_type": "stream",
          "name": "stdout",
          "text": [
            "Epoch 1:\n",
            "Train Loss: 0.5316, Train Acc: 78.00%\n",
            "Val Loss: 0.6851, Val Acc: 72.00%\n"
          ]
        },
        {
          "output_type": "stream",
          "name": "stderr",
          "text": [
            "Training: 100%|██████████| 32/32 [00:14<00:00,  2.21it/s]\n",
            "Validating: 100%|██████████| 7/7 [00:01<00:00,  6.02it/s]\n"
          ]
        },
        {
          "output_type": "stream",
          "name": "stdout",
          "text": [
            "Epoch 2:\n",
            "Train Loss: 0.5436, Train Acc: 78.00%\n",
            "Val Loss: 0.6998, Val Acc: 72.00%\n"
          ]
        },
        {
          "output_type": "stream",
          "name": "stderr",
          "text": [
            "Training: 100%|██████████| 32/32 [00:14<00:00,  2.21it/s]\n",
            "Validating: 100%|██████████| 7/7 [00:01<00:00,  5.98it/s]\n"
          ]
        },
        {
          "output_type": "stream",
          "name": "stdout",
          "text": [
            "Epoch 3:\n",
            "Train Loss: 0.5168, Train Acc: 78.00%\n",
            "Val Loss: 0.6774, Val Acc: 72.00%\n"
          ]
        },
        {
          "output_type": "stream",
          "name": "stderr",
          "text": [
            "Training: 100%|██████████| 32/32 [00:14<00:00,  2.20it/s]\n",
            "Validating: 100%|██████████| 7/7 [00:01<00:00,  4.90it/s]\n"
          ]
        },
        {
          "output_type": "stream",
          "name": "stdout",
          "text": [
            "Epoch 4:\n",
            "Train Loss: 0.5104, Train Acc: 78.00%\n",
            "Val Loss: 0.6703, Val Acc: 72.00%\n"
          ]
        },
        {
          "output_type": "stream",
          "name": "stderr",
          "text": [
            "Training: 100%|██████████| 32/32 [00:14<00:00,  2.23it/s]\n",
            "Validating: 100%|██████████| 7/7 [00:01<00:00,  6.03it/s]"
          ]
        },
        {
          "output_type": "stream",
          "name": "stdout",
          "text": [
            "Epoch 5:\n",
            "Train Loss: 0.4976, Train Acc: 78.00%\n",
            "Val Loss: 0.6327, Val Acc: 72.00%\n"
          ]
        },
        {
          "output_type": "stream",
          "name": "stderr",
          "text": [
            "\n"
          ]
        }
      ]
    },
    {
      "cell_type": "code",
      "source": [
        "plt.plot(noises, best_acc_shape)\n",
        "plt.xlabel('Noise')\n",
        "plt.ylabel('Accuracy')\n",
        "plt.title(f'Accuracy vs Shape Noise (Max {max(best_acc_shape)}%)')\n",
        "plt.show()"
      ],
      "metadata": {
        "colab": {
          "base_uri": "https://localhost:8080/",
          "height": 472
        },
        "id": "EJuhCg7zXWmr",
        "outputId": "d5ff1ee3-c8bf-49a5-8750-8fe6d21810a8"
      },
      "execution_count": 7,
      "outputs": [
        {
          "output_type": "display_data",
          "data": {
            "text/plain": [
              "<Figure size 640x480 with 1 Axes>"
            ],
            "image/png": "[encoded data removed]"
          },
          "metadata": {}
        }
      ]
    },
    {
      "cell_type": "code",
      "source": [
        "noises = [0.01, 0.05, 0.1, 0.2, 0.25, 0.3, 0.4, 0.5, 0.6, 0.7, 0.75]\n",
        "best_acc_color = []\n",
        "def main():\n",
        "  for n in noises:\n",
        "    train_dataset = ShapesDataset(num_samples=1000, transform=transform, split='train', noise=(0.1,0.1,n))\n",
        "    test_dataset = ShapesDataset(num_samples=200, transform=transform, split='test', noise=(0.1,0.1,n))\n",
        "\n",
        "    train_loader = DataLoader(train_dataset, batch_size=32, shuffle=True, num_workers=2)\n",
        "    test_loader = DataLoader(test_dataset, batch_size=32, shuffle=False, num_workers=2)\n",
        "\n",
        "    model = VQAModel(num_classes=2).to(device)\n",
        "    criterion = nn.CrossEntropyLoss()\n",
        "    optimizer = optim.Adam(model.parameters(), lr=0.0001)\n",
        "\n",
        "    best_acc_test = 0\n",
        "    best_acc = 0\n",
        "    for epoch in range(5):\n",
        "        train_loss, train_acc = train_one_epoch(model, train_loader, criterion,\n",
        "                                            optimizer, device)\n",
        "        test_loss, test_acc = validate(model, test_loader, criterion, device)\n",
        "\n",
        "        print(f'Epoch {epoch+1}:')\n",
        "        print(f'Train Loss: {train_loss:.4f}, Train Acc: {train_acc:.2f}%')\n",
        "        print(f'Val Loss: {test_loss:.4f}, Val Acc: {test_acc:.2f}%')\n",
        "\n",
        "        if test_acc > best_acc_test:\n",
        "            best_acc_test = test_acc\n",
        "\n",
        "        if test_acc > best_acc:\n",
        "            best_acc = test_acc\n",
        "            torch.save(model.state_dict(), 'best_color_model_by_noise.pth')\n",
        "\n",
        "    best_acc_color.append(best_acc_test)\n",
        "\n",
        "\n",
        "if __name__ == '__main__':\n",
        "  main()"
      ],
      "metadata": {
        "colab": {
          "base_uri": "https://localhost:8080/"
        },
        "id": "jWu-OW5zIh86",
        "outputId": "89bfb70d-ad5f-4d11-a14d-8bc4436e12e9",
        "collapsed": true
      },
      "execution_count": 8,
      "outputs": [
        {
          "output_type": "stream",
          "name": "stderr",
          "text": [
            "100%|██████████| 1000/1000 [00:00<00:00, 4522.45it/s]\n",
            "100%|██████████| 200/200 [00:00<00:00, 4723.98it/s]\n",
            "Training: 100%|██████████| 32/32 [00:14<00:00,  2.24it/s]\n",
            "Validating: 100%|██████████| 7/7 [00:01<00:00,  6.03it/s]\n"
          ]
        },
        {
          "output_type": "stream",
          "name": "stdout",
          "text": [
            "Epoch 1:\n",
            "Train Loss: 0.3832, Train Acc: 88.00%\n",
            "Val Loss: 0.3447, Val Acc: 90.50%\n"
          ]
        },
        {
          "output_type": "stream",
          "name": "stderr",
          "text": [
            "Training: 100%|██████████| 32/32 [00:14<00:00,  2.20it/s]\n",
            "Validating: 100%|██████████| 7/7 [00:01<00:00,  6.18it/s]\n"
          ]
        },
        {
          "output_type": "stream",
          "name": "stdout",
          "text": [
            "Epoch 2:\n",
            "Train Loss: 0.3254, Train Acc: 90.40%\n",
            "Val Loss: 0.4445, Val Acc: 90.50%\n"
          ]
        },
        {
          "output_type": "stream",
          "name": "stderr",
          "text": [
            "Training: 100%|██████████| 32/32 [00:14<00:00,  2.22it/s]\n",
            "Validating: 100%|██████████| 7/7 [00:01<00:00,  6.15it/s]\n"
          ]
        },
        {
          "output_type": "stream",
          "name": "stdout",
          "text": [
            "Epoch 3:\n",
            "Train Loss: 0.2924, Train Acc: 90.40%\n",
            "Val Loss: 0.4885, Val Acc: 90.50%\n"
          ]
        },
        {
          "output_type": "stream",
          "name": "stderr",
          "text": [
            "Training: 100%|██████████| 32/32 [00:14<00:00,  2.22it/s]\n",
            "Validating: 100%|██████████| 7/7 [00:01<00:00,  6.14it/s]\n"
          ]
        },
        {
          "output_type": "stream",
          "name": "stdout",
          "text": [
            "Epoch 4:\n",
            "Train Loss: 0.2803, Train Acc: 90.40%\n",
            "Val Loss: 0.3609, Val Acc: 90.50%\n"
          ]
        },
        {
          "output_type": "stream",
          "name": "stderr",
          "text": [
            "Training: 100%|██████████| 32/32 [00:14<00:00,  2.23it/s]\n",
            "Validating: 100%|██████████| 7/7 [00:01<00:00,  5.04it/s]\n"
          ]
        },
        {
          "output_type": "stream",
          "name": "stdout",
          "text": [
            "Epoch 5:\n",
            "Train Loss: 0.2746, Train Acc: 90.40%\n",
            "Val Loss: 0.4864, Val Acc: 90.50%\n"
          ]
        },
        {
          "output_type": "stream",
          "name": "stderr",
          "text": [
            "100%|██████████| 1000/1000 [00:00<00:00, 2604.43it/s]\n",
            "100%|██████████| 200/200 [00:00<00:00, 2755.87it/s]\n",
            "Training: 100%|██████████| 32/32 [00:14<00:00,  2.21it/s]\n",
            "Validating: 100%|██████████| 7/7 [00:01<00:00,  6.08it/s]\n"
          ]
        },
        {
          "output_type": "stream",
          "name": "stdout",
          "text": [
            "Epoch 1:\n",
            "Train Loss: 0.4153, Train Acc: 86.20%\n",
            "Val Loss: 0.4596, Val Acc: 85.00%\n"
          ]
        },
        {
          "output_type": "stream",
          "name": "stderr",
          "text": [
            "Training: 100%|██████████| 32/32 [00:14<00:00,  2.21it/s]\n",
            "Validating: 100%|██████████| 7/7 [00:01<00:00,  5.57it/s]\n"
          ]
        },
        {
          "output_type": "stream",
          "name": "stdout",
          "text": [
            "Epoch 2:\n",
            "Train Loss: 0.3747, Train Acc: 87.00%\n",
            "Val Loss: 0.4956, Val Acc: 85.00%\n"
          ]
        },
        {
          "output_type": "stream",
          "name": "stderr",
          "text": [
            "Training: 100%|██████████| 32/32 [00:14<00:00,  2.19it/s]\n",
            "Validating: 100%|██████████| 7/7 [00:01<00:00,  6.01it/s]\n"
          ]
        },
        {
          "output_type": "stream",
          "name": "stdout",
          "text": [
            "Epoch 3:\n",
            "Train Loss: 0.3534, Train Acc: 87.00%\n",
            "Val Loss: 0.9568, Val Acc: 85.00%\n"
          ]
        },
        {
          "output_type": "stream",
          "name": "stderr",
          "text": [
            "Training: 100%|██████████| 32/32 [00:14<00:00,  2.21it/s]\n",
            "Validating: 100%|██████████| 7/7 [00:01<00:00,  6.03it/s]\n"
          ]
        },
        {
          "output_type": "stream",
          "name": "stdout",
          "text": [
            "Epoch 4:\n",
            "Train Loss: 0.3531, Train Acc: 87.00%\n",
            "Val Loss: 0.5094, Val Acc: 85.00%\n"
          ]
        },
        {
          "output_type": "stream",
          "name": "stderr",
          "text": [
            "Training: 100%|██████████| 32/32 [00:14<00:00,  2.23it/s]\n",
            "Validating: 100%|██████████| 7/7 [00:01<00:00,  6.00it/s]\n"
          ]
        },
        {
          "output_type": "stream",
          "name": "stdout",
          "text": [
            "Epoch 5:\n",
            "Train Loss: 0.3319, Train Acc: 87.00%\n",
            "Val Loss: 0.5651, Val Acc: 85.00%\n"
          ]
        },
        {
          "output_type": "stream",
          "name": "stderr",
          "text": [
            "100%|██████████| 1000/1000 [00:00<00:00, 4197.02it/s]\n",
            "100%|██████████| 200/200 [00:00<00:00, 4160.81it/s]\n",
            "Training: 100%|██████████| 32/32 [00:14<00:00,  2.21it/s]\n",
            "Validating: 100%|██████████| 7/7 [00:01<00:00,  6.11it/s]\n"
          ]
        },
        {
          "output_type": "stream",
          "name": "stdout",
          "text": [
            "Epoch 1:\n",
            "Train Loss: 0.5111, Train Acc: 80.10%\n",
            "Val Loss: 0.5311, Val Acc: 77.50%\n"
          ]
        },
        {
          "output_type": "stream",
          "name": "stderr",
          "text": [
            "Training: 100%|██████████| 32/32 [00:14<00:00,  2.20it/s]\n",
            "Validating: 100%|██████████| 7/7 [00:01<00:00,  6.09it/s]\n"
          ]
        },
        {
          "output_type": "stream",
          "name": "stdout",
          "text": [
            "Epoch 2:\n",
            "Train Loss: 0.5003, Train Acc: 80.80%\n",
            "Val Loss: 0.5723, Val Acc: 77.50%\n"
          ]
        },
        {
          "output_type": "stream",
          "name": "stderr",
          "text": [
            "Training: 100%|██████████| 32/32 [00:14<00:00,  2.20it/s]\n",
            "Validating: 100%|██████████| 7/7 [00:01<00:00,  5.18it/s]\n"
          ]
        },
        {
          "output_type": "stream",
          "name": "stdout",
          "text": [
            "Epoch 3:\n",
            "Train Loss: 0.4982, Train Acc: 80.80%\n",
            "Val Loss: 0.5878, Val Acc: 77.50%\n"
          ]
        },
        {
          "output_type": "stream",
          "name": "stderr",
          "text": [
            "Training: 100%|██████████| 32/32 [00:14<00:00,  2.21it/s]\n",
            "Validating: 100%|██████████| 7/7 [00:01<00:00,  6.04it/s]\n"
          ]
        },
        {
          "output_type": "stream",
          "name": "stdout",
          "text": [
            "Epoch 4:\n",
            "Train Loss: 0.4607, Train Acc: 80.80%\n",
            "Val Loss: 0.5183, Val Acc: 77.50%\n"
          ]
        },
        {
          "output_type": "stream",
          "name": "stderr",
          "text": [
            "Training: 100%|██████████| 32/32 [00:14<00:00,  2.21it/s]\n",
            "Validating: 100%|██████████| 7/7 [00:01<00:00,  6.08it/s]\n"
          ]
        },
        {
          "output_type": "stream",
          "name": "stdout",
          "text": [
            "Epoch 5:\n",
            "Train Loss: 0.4754, Train Acc: 80.80%\n",
            "Val Loss: 0.5593, Val Acc: 77.50%\n"
          ]
        },
        {
          "output_type": "stream",
          "name": "stderr",
          "text": [
            "100%|██████████| 1000/1000 [00:00<00:00, 3996.44it/s]\n",
            "100%|██████████| 200/200 [00:00<00:00, 3639.14it/s]\n",
            "Training: 100%|██████████| 32/32 [00:14<00:00,  2.20it/s]\n",
            "Validating: 100%|██████████| 7/7 [00:01<00:00,  5.39it/s]\n"
          ]
        },
        {
          "output_type": "stream",
          "name": "stdout",
          "text": [
            "Epoch 1:\n",
            "Train Loss: 0.6143, Train Acc: 70.20%\n",
            "Val Loss: 0.6265, Val Acc: 69.00%\n"
          ]
        },
        {
          "output_type": "stream",
          "name": "stderr",
          "text": [
            "Training: 100%|██████████| 32/32 [00:14<00:00,  2.22it/s]\n",
            "Validating: 100%|██████████| 7/7 [00:01<00:00,  6.01it/s]\n"
          ]
        },
        {
          "output_type": "stream",
          "name": "stdout",
          "text": [
            "Epoch 2:\n",
            "Train Loss: 0.5992, Train Acc: 71.60%\n",
            "Val Loss: 0.6507, Val Acc: 69.00%\n"
          ]
        },
        {
          "output_type": "stream",
          "name": "stderr",
          "text": [
            "Training: 100%|██████████| 32/32 [00:14<00:00,  2.22it/s]\n",
            "Validating: 100%|██████████| 7/7 [00:01<00:00,  5.34it/s]\n"
          ]
        },
        {
          "output_type": "stream",
          "name": "stdout",
          "text": [
            "Epoch 3:\n",
            "Train Loss: 0.5959, Train Acc: 71.60%\n",
            "Val Loss: 0.6732, Val Acc: 69.00%\n"
          ]
        },
        {
          "output_type": "stream",
          "name": "stderr",
          "text": [
            "Training: 100%|██████████| 32/32 [00:14<00:00,  2.19it/s]\n",
            "Validating: 100%|██████████| 7/7 [00:01<00:00,  5.81it/s]\n"
          ]
        },
        {
          "output_type": "stream",
          "name": "stdout",
          "text": [
            "Epoch 4:\n",
            "Train Loss: 0.5855, Train Acc: 71.60%\n",
            "Val Loss: 0.6895, Val Acc: 69.00%\n"
          ]
        },
        {
          "output_type": "stream",
          "name": "stderr",
          "text": [
            "Training: 100%|██████████| 32/32 [00:14<00:00,  2.23it/s]\n",
            "Validating: 100%|██████████| 7/7 [00:01<00:00,  5.90it/s]\n"
          ]
        },
        {
          "output_type": "stream",
          "name": "stdout",
          "text": [
            "Epoch 5:\n",
            "Train Loss: 0.5555, Train Acc: 71.60%\n",
            "Val Loss: 0.6829, Val Acc: 69.00%\n"
          ]
        },
        {
          "output_type": "stream",
          "name": "stderr",
          "text": [
            "100%|██████████| 1000/1000 [00:00<00:00, 4356.85it/s]\n",
            "100%|██████████| 200/200 [00:00<00:00, 4238.43it/s]\n",
            "Training: 100%|██████████| 32/32 [00:14<00:00,  2.22it/s]\n",
            "Validating: 100%|██████████| 7/7 [00:01<00:00,  5.23it/s]\n"
          ]
        },
        {
          "output_type": "stream",
          "name": "stdout",
          "text": [
            "Epoch 1:\n",
            "Train Loss: 0.6474, Train Acc: 66.20%\n",
            "Val Loss: 0.6643, Val Acc: 66.50%\n"
          ]
        },
        {
          "output_type": "stream",
          "name": "stderr",
          "text": [
            "Training: 100%|██████████| 32/32 [00:14<00:00,  2.21it/s]\n",
            "Validating: 100%|██████████| 7/7 [00:01<00:00,  6.02it/s]\n"
          ]
        },
        {
          "output_type": "stream",
          "name": "stdout",
          "text": [
            "Epoch 2:\n",
            "Train Loss: 0.6385, Train Acc: 67.40%\n",
            "Val Loss: 0.6721, Val Acc: 66.50%\n"
          ]
        },
        {
          "output_type": "stream",
          "name": "stderr",
          "text": [
            "Training: 100%|██████████| 32/32 [00:14<00:00,  2.21it/s]\n",
            "Validating: 100%|██████████| 7/7 [00:01<00:00,  5.88it/s]\n"
          ]
        },
        {
          "output_type": "stream",
          "name": "stdout",
          "text": [
            "Epoch 3:\n",
            "Train Loss: 0.6309, Train Acc: 67.20%\n",
            "Val Loss: 0.6377, Val Acc: 66.50%\n"
          ]
        },
        {
          "output_type": "stream",
          "name": "stderr",
          "text": [
            "Training: 100%|██████████| 32/32 [00:14<00:00,  2.19it/s]\n",
            "Validating: 100%|██████████| 7/7 [00:01<00:00,  5.97it/s]\n"
          ]
        },
        {
          "output_type": "stream",
          "name": "stdout",
          "text": [
            "Epoch 4:\n",
            "Train Loss: 0.6177, Train Acc: 68.10%\n",
            "Val Loss: 0.7060, Val Acc: 56.00%\n"
          ]
        },
        {
          "output_type": "stream",
          "name": "stderr",
          "text": [
            "Training: 100%|██████████| 32/32 [00:14<00:00,  2.23it/s]\n",
            "Validating: 100%|██████████| 7/7 [00:01<00:00,  5.99it/s]\n"
          ]
        },
        {
          "output_type": "stream",
          "name": "stdout",
          "text": [
            "Epoch 5:\n",
            "Train Loss: 0.6052, Train Acc: 67.30%\n",
            "Val Loss: 0.6982, Val Acc: 66.50%\n"
          ]
        },
        {
          "output_type": "stream",
          "name": "stderr",
          "text": [
            "100%|██████████| 1000/1000 [00:00<00:00, 4192.56it/s]\n",
            "100%|██████████| 200/200 [00:00<00:00, 4326.75it/s]\n",
            "Training: 100%|██████████| 32/32 [00:14<00:00,  2.23it/s]\n",
            "Validating: 100%|██████████| 7/7 [00:01<00:00,  5.98it/s]\n"
          ]
        },
        {
          "output_type": "stream",
          "name": "stdout",
          "text": [
            "Epoch 1:\n",
            "Train Loss: 0.6803, Train Acc: 61.20%\n",
            "Val Loss: 0.6230, Val Acc: 67.50%\n"
          ]
        },
        {
          "output_type": "stream",
          "name": "stderr",
          "text": [
            "Training: 100%|██████████| 32/32 [00:14<00:00,  2.19it/s]\n",
            "Validating: 100%|██████████| 7/7 [00:01<00:00,  6.04it/s]\n"
          ]
        },
        {
          "output_type": "stream",
          "name": "stdout",
          "text": [
            "Epoch 2:\n",
            "Train Loss: 0.6672, Train Acc: 59.20%\n",
            "Val Loss: 0.6195, Val Acc: 67.50%\n"
          ]
        },
        {
          "output_type": "stream",
          "name": "stderr",
          "text": [
            "Training: 100%|██████████| 32/32 [00:14<00:00,  2.21it/s]\n",
            "Validating: 100%|██████████| 7/7 [00:01<00:00,  6.04it/s]\n"
          ]
        },
        {
          "output_type": "stream",
          "name": "stdout",
          "text": [
            "Epoch 3:\n",
            "Train Loss: 0.6632, Train Acc: 61.80%\n",
            "Val Loss: 0.6223, Val Acc: 66.50%\n"
          ]
        },
        {
          "output_type": "stream",
          "name": "stderr",
          "text": [
            "Training: 100%|██████████| 32/32 [00:14<00:00,  2.22it/s]\n",
            "Validating: 100%|██████████| 7/7 [00:01<00:00,  6.06it/s]\n"
          ]
        },
        {
          "output_type": "stream",
          "name": "stdout",
          "text": [
            "Epoch 4:\n",
            "Train Loss: 0.6651, Train Acc: 61.20%\n",
            "Val Loss: 0.6247, Val Acc: 67.50%\n"
          ]
        },
        {
          "output_type": "stream",
          "name": "stderr",
          "text": [
            "Training: 100%|██████████| 32/32 [00:14<00:00,  2.20it/s]\n",
            "Validating: 100%|██████████| 7/7 [00:01<00:00,  5.91it/s]\n"
          ]
        },
        {
          "output_type": "stream",
          "name": "stdout",
          "text": [
            "Epoch 5:\n",
            "Train Loss: 0.6666, Train Acc: 61.20%\n",
            "Val Loss: 0.6428, Val Acc: 67.50%\n"
          ]
        },
        {
          "output_type": "stream",
          "name": "stderr",
          "text": [
            "100%|██████████| 1000/1000 [00:00<00:00, 4012.18it/s]\n",
            "100%|██████████| 200/200 [00:00<00:00, 4094.14it/s]\n",
            "Training: 100%|██████████| 32/32 [00:14<00:00,  2.22it/s]\n",
            "Validating: 100%|██████████| 7/7 [00:01<00:00,  5.98it/s]\n"
          ]
        },
        {
          "output_type": "stream",
          "name": "stdout",
          "text": [
            "Epoch 1:\n",
            "Train Loss: 0.7043, Train Acc: 50.60%\n",
            "Val Loss: 0.6962, Val Acc: 50.50%\n"
          ]
        },
        {
          "output_type": "stream",
          "name": "stderr",
          "text": [
            "Training: 100%|██████████| 32/32 [00:14<00:00,  2.20it/s]\n",
            "Validating: 100%|██████████| 7/7 [00:01<00:00,  5.97it/s]\n"
          ]
        },
        {
          "output_type": "stream",
          "name": "stdout",
          "text": [
            "Epoch 2:\n",
            "Train Loss: 0.6924, Train Acc: 53.00%\n",
            "Val Loss: 0.6968, Val Acc: 51.50%\n"
          ]
        },
        {
          "output_type": "stream",
          "name": "stderr",
          "text": [
            "Training: 100%|██████████| 32/32 [00:14<00:00,  2.17it/s]\n",
            "Validating: 100%|██████████| 7/7 [00:01<00:00,  5.90it/s]\n"
          ]
        },
        {
          "output_type": "stream",
          "name": "stdout",
          "text": [
            "Epoch 3:\n",
            "Train Loss: 0.6892, Train Acc: 55.30%\n",
            "Val Loss: 0.7435, Val Acc: 50.50%\n"
          ]
        },
        {
          "output_type": "stream",
          "name": "stderr",
          "text": [
            "Training: 100%|██████████| 32/32 [00:14<00:00,  2.19it/s]\n",
            "Validating: 100%|██████████| 7/7 [00:01<00:00,  5.43it/s]\n"
          ]
        },
        {
          "output_type": "stream",
          "name": "stdout",
          "text": [
            "Epoch 4:\n",
            "Train Loss: 0.6914, Train Acc: 55.50%\n",
            "Val Loss: 0.7017, Val Acc: 46.00%\n"
          ]
        },
        {
          "output_type": "stream",
          "name": "stderr",
          "text": [
            "Training: 100%|██████████| 32/32 [00:14<00:00,  2.23it/s]\n",
            "Validating: 100%|██████████| 7/7 [00:01<00:00,  5.94it/s]\n"
          ]
        },
        {
          "output_type": "stream",
          "name": "stdout",
          "text": [
            "Epoch 5:\n",
            "Train Loss: 0.6915, Train Acc: 53.00%\n",
            "Val Loss: 0.7044, Val Acc: 50.50%\n"
          ]
        },
        {
          "output_type": "stream",
          "name": "stderr",
          "text": [
            "100%|██████████| 1000/1000 [00:00<00:00, 4231.02it/s]\n",
            "100%|██████████| 200/200 [00:00<00:00, 4025.96it/s]\n",
            "Training: 100%|██████████| 32/32 [00:14<00:00,  2.23it/s]\n",
            "Validating: 100%|██████████| 7/7 [00:01<00:00,  6.12it/s]\n"
          ]
        },
        {
          "output_type": "stream",
          "name": "stdout",
          "text": [
            "Epoch 1:\n",
            "Train Loss: 0.6969, Train Acc: 53.40%\n",
            "Val Loss: 0.6925, Val Acc: 52.50%\n"
          ]
        },
        {
          "output_type": "stream",
          "name": "stderr",
          "text": [
            "Training: 100%|██████████| 32/32 [00:14<00:00,  2.19it/s]\n",
            "Validating: 100%|██████████| 7/7 [00:01<00:00,  6.10it/s]\n"
          ]
        },
        {
          "output_type": "stream",
          "name": "stdout",
          "text": [
            "Epoch 2:\n",
            "Train Loss: 0.6926, Train Acc: 54.30%\n",
            "Val Loss: 0.6946, Val Acc: 53.00%\n"
          ]
        },
        {
          "output_type": "stream",
          "name": "stderr",
          "text": [
            "Training: 100%|██████████| 32/32 [00:14<00:00,  2.22it/s]\n",
            "Validating: 100%|██████████| 7/7 [00:01<00:00,  6.05it/s]\n"
          ]
        },
        {
          "output_type": "stream",
          "name": "stdout",
          "text": [
            "Epoch 3:\n",
            "Train Loss: 0.6908, Train Acc: 56.20%\n",
            "Val Loss: 0.6872, Val Acc: 54.00%\n"
          ]
        },
        {
          "output_type": "stream",
          "name": "stderr",
          "text": [
            "Training: 100%|██████████| 32/32 [00:14<00:00,  2.20it/s]\n",
            "Validating: 100%|██████████| 7/7 [00:01<00:00,  6.07it/s]\n"
          ]
        },
        {
          "output_type": "stream",
          "name": "stdout",
          "text": [
            "Epoch 4:\n",
            "Train Loss: 0.6854, Train Acc: 55.90%\n",
            "Val Loss: 0.6965, Val Acc: 49.50%\n"
          ]
        },
        {
          "output_type": "stream",
          "name": "stderr",
          "text": [
            "Training: 100%|██████████| 32/32 [00:14<00:00,  2.23it/s]\n",
            "Validating: 100%|██████████| 7/7 [00:01<00:00,  6.14it/s]\n"
          ]
        },
        {
          "output_type": "stream",
          "name": "stdout",
          "text": [
            "Epoch 5:\n",
            "Train Loss: 0.6896, Train Acc: 55.00%\n",
            "Val Loss: 0.6889, Val Acc: 54.00%\n"
          ]
        },
        {
          "output_type": "stream",
          "name": "stderr",
          "text": [
            "100%|██████████| 1000/1000 [00:00<00:00, 4550.91it/s]\n",
            "100%|██████████| 200/200 [00:00<00:00, 4088.77it/s]\n",
            "Training: 100%|██████████| 32/32 [00:14<00:00,  2.22it/s]\n",
            "Validating: 100%|██████████| 7/7 [00:01<00:00,  4.96it/s]\n"
          ]
        },
        {
          "output_type": "stream",
          "name": "stdout",
          "text": [
            "Epoch 1:\n",
            "Train Loss: 0.6586, Train Acc: 64.00%\n",
            "Val Loss: 0.6891, Val Acc: 62.00%\n"
          ]
        },
        {
          "output_type": "stream",
          "name": "stderr",
          "text": [
            "Training: 100%|██████████| 32/32 [00:14<00:00,  2.22it/s]\n",
            "Validating: 100%|██████████| 7/7 [00:01<00:00,  6.01it/s]\n"
          ]
        },
        {
          "output_type": "stream",
          "name": "stdout",
          "text": [
            "Epoch 2:\n",
            "Train Loss: 0.6447, Train Acc: 65.10%\n",
            "Val Loss: 0.6611, Val Acc: 61.50%\n"
          ]
        },
        {
          "output_type": "stream",
          "name": "stderr",
          "text": [
            "Training: 100%|██████████| 32/32 [00:14<00:00,  2.22it/s]\n",
            "Validating: 100%|██████████| 7/7 [00:01<00:00,  6.06it/s]\n"
          ]
        },
        {
          "output_type": "stream",
          "name": "stdout",
          "text": [
            "Epoch 3:\n",
            "Train Loss: 0.6504, Train Acc: 65.40%\n",
            "Val Loss: 0.6698, Val Acc: 62.00%\n"
          ]
        },
        {
          "output_type": "stream",
          "name": "stderr",
          "text": [
            "Training: 100%|██████████| 32/32 [00:14<00:00,  2.22it/s]\n",
            "Validating: 100%|██████████| 7/7 [00:01<00:00,  5.72it/s]\n"
          ]
        },
        {
          "output_type": "stream",
          "name": "stdout",
          "text": [
            "Epoch 4:\n",
            "Train Loss: 0.6284, Train Acc: 65.10%\n",
            "Val Loss: 0.9360, Val Acc: 62.00%\n"
          ]
        },
        {
          "output_type": "stream",
          "name": "stderr",
          "text": [
            "Training: 100%|██████████| 32/32 [00:14<00:00,  2.22it/s]\n",
            "Validating: 100%|██████████| 7/7 [00:01<00:00,  6.17it/s]\n"
          ]
        },
        {
          "output_type": "stream",
          "name": "stdout",
          "text": [
            "Epoch 5:\n",
            "Train Loss: 0.6351, Train Acc: 64.20%\n",
            "Val Loss: 0.7035, Val Acc: 62.00%\n"
          ]
        },
        {
          "output_type": "stream",
          "name": "stderr",
          "text": [
            "100%|██████████| 1000/1000 [00:00<00:00, 3951.77it/s]\n",
            "100%|██████████| 200/200 [00:00<00:00, 3714.76it/s]\n",
            "Training: 100%|██████████| 32/32 [00:14<00:00,  2.23it/s]\n",
            "Validating: 100%|██████████| 7/7 [00:01<00:00,  6.11it/s]\n"
          ]
        },
        {
          "output_type": "stream",
          "name": "stdout",
          "text": [
            "Epoch 1:\n",
            "Train Loss: 0.6023, Train Acc: 71.40%\n",
            "Val Loss: 0.6097, Val Acc: 75.50%\n"
          ]
        },
        {
          "output_type": "stream",
          "name": "stderr",
          "text": [
            "Training: 100%|██████████| 32/32 [00:14<00:00,  2.21it/s]\n",
            "Validating: 100%|██████████| 7/7 [00:01<00:00,  6.02it/s]\n"
          ]
        },
        {
          "output_type": "stream",
          "name": "stdout",
          "text": [
            "Epoch 2:\n",
            "Train Loss: 0.5825, Train Acc: 73.40%\n",
            "Val Loss: 0.5917, Val Acc: 75.50%\n"
          ]
        },
        {
          "output_type": "stream",
          "name": "stderr",
          "text": [
            "Training: 100%|██████████| 32/32 [00:14<00:00,  2.23it/s]\n",
            "Validating: 100%|██████████| 7/7 [00:01<00:00,  6.11it/s]\n"
          ]
        },
        {
          "output_type": "stream",
          "name": "stdout",
          "text": [
            "Epoch 3:\n",
            "Train Loss: 0.5564, Train Acc: 73.40%\n",
            "Val Loss: 0.6006, Val Acc: 75.50%\n"
          ]
        },
        {
          "output_type": "stream",
          "name": "stderr",
          "text": [
            "Training: 100%|██████████| 32/32 [00:14<00:00,  2.22it/s]\n",
            "Validating: 100%|██████████| 7/7 [00:01<00:00,  6.05it/s]\n"
          ]
        },
        {
          "output_type": "stream",
          "name": "stdout",
          "text": [
            "Epoch 4:\n",
            "Train Loss: 0.5512, Train Acc: 73.40%\n",
            "Val Loss: 0.5762, Val Acc: 75.50%\n"
          ]
        },
        {
          "output_type": "stream",
          "name": "stderr",
          "text": [
            "Training: 100%|██████████| 32/32 [00:14<00:00,  2.21it/s]\n",
            "Validating: 100%|██████████| 7/7 [00:01<00:00,  5.44it/s]\n"
          ]
        },
        {
          "output_type": "stream",
          "name": "stdout",
          "text": [
            "Epoch 5:\n",
            "Train Loss: 0.5441, Train Acc: 73.10%\n",
            "Val Loss: 0.6380, Val Acc: 75.50%\n"
          ]
        },
        {
          "output_type": "stream",
          "name": "stderr",
          "text": [
            "100%|██████████| 1000/1000 [00:00<00:00, 4194.51it/s]\n",
            "100%|██████████| 200/200 [00:00<00:00, 4419.73it/s]\n",
            "Training: 100%|██████████| 32/32 [00:14<00:00,  2.23it/s]\n",
            "Validating: 100%|██████████| 7/7 [00:01<00:00,  6.11it/s]\n"
          ]
        },
        {
          "output_type": "stream",
          "name": "stdout",
          "text": [
            "Epoch 1:\n",
            "Train Loss: 0.5501, Train Acc: 77.30%\n",
            "Val Loss: 0.5549, Val Acc: 77.00%\n"
          ]
        },
        {
          "output_type": "stream",
          "name": "stderr",
          "text": [
            "Training: 100%|██████████| 32/32 [00:14<00:00,  2.21it/s]\n",
            "Validating: 100%|██████████| 7/7 [00:01<00:00,  5.58it/s]\n"
          ]
        },
        {
          "output_type": "stream",
          "name": "stdout",
          "text": [
            "Epoch 2:\n",
            "Train Loss: 0.5278, Train Acc: 78.10%\n",
            "Val Loss: 0.5447, Val Acc: 77.00%\n"
          ]
        },
        {
          "output_type": "stream",
          "name": "stderr",
          "text": [
            "Training: 100%|██████████| 32/32 [00:14<00:00,  2.19it/s]\n",
            "Validating: 100%|██████████| 7/7 [00:01<00:00,  6.00it/s]\n"
          ]
        },
        {
          "output_type": "stream",
          "name": "stdout",
          "text": [
            "Epoch 3:\n",
            "Train Loss: 0.5122, Train Acc: 78.10%\n",
            "Val Loss: 0.6478, Val Acc: 77.00%\n"
          ]
        },
        {
          "output_type": "stream",
          "name": "stderr",
          "text": [
            "Training: 100%|██████████| 32/32 [00:14<00:00,  2.22it/s]\n",
            "Validating: 100%|██████████| 7/7 [00:01<00:00,  6.04it/s]\n"
          ]
        },
        {
          "output_type": "stream",
          "name": "stdout",
          "text": [
            "Epoch 4:\n",
            "Train Loss: 0.5034, Train Acc: 78.10%\n",
            "Val Loss: 0.6146, Val Acc: 77.00%\n"
          ]
        },
        {
          "output_type": "stream",
          "name": "stderr",
          "text": [
            "Training: 100%|██████████| 32/32 [00:14<00:00,  2.23it/s]\n",
            "Validating: 100%|██████████| 7/7 [00:01<00:00,  6.23it/s]"
          ]
        },
        {
          "output_type": "stream",
          "name": "stdout",
          "text": [
            "Epoch 5:\n",
            "Train Loss: 0.4956, Train Acc: 78.10%\n",
            "Val Loss: 0.5789, Val Acc: 77.00%\n"
          ]
        },
        {
          "output_type": "stream",
          "name": "stderr",
          "text": [
            "\n"
          ]
        }
      ]
    },
    {
      "cell_type": "code",
      "source": [
        "plt.plot(noises, best_acc_color)\n",
        "plt.xlabel('Noise')\n",
        "plt.ylabel('Accuracy')\n",
        "plt.title(f'Accuracy vs Color Noise (Max {max(best_acc_color)}%)')\n",
        "plt.show()"
      ],
      "metadata": {
        "colab": {
          "base_uri": "https://localhost:8080/",
          "height": 472
        },
        "id": "XUaeitIgXZoK",
        "outputId": "ef8b439d-bf30-48e4-95c1-48dd796c7f50"
      },
      "execution_count": 9,
      "outputs": [
        {
          "output_type": "display_data",
          "data": {
            "text/plain": [
              "<Figure size 640x480 with 1 Axes>"
            ],
            "image/png": "[encoded data removed]"
          },
          "metadata": {}
        }
      ]
    },
    {
      "cell_type": "code",
      "source": [
        "best_acc_overall = []\n",
        "def main():\n",
        "    train_dataset = ShapesDataset(num_samples=1000, transform=transform, split='train', noise=(0.25,0.01,0.01))\n",
        "    test_dataset = ShapesDataset(num_samples=200, transform=transform, split='test', noise=(0.25, 0.01, 0.01))\n",
        "\n",
        "    train_loader = DataLoader(train_dataset, batch_size=32, shuffle=True, num_workers=2)\n",
        "    test_loader = DataLoader(test_dataset, batch_size=32, shuffle=False, num_workers=2)\n",
        "\n",
        "    model = VQAModel(num_classes=2).to(device)\n",
        "    criterion = nn.CrossEntropyLoss()\n",
        "    optimizer = optim.Adam(model.parameters(), lr=0.0001)\n",
        "\n",
        "    best_acc = 0\n",
        "    for epoch in range(10):\n",
        "        train_loss, train_acc = train_one_epoch(model, train_loader, criterion,\n",
        "                                            optimizer, device)\n",
        "        test_loss, test_acc = validate(model, test_loader, criterion, device)\n",
        "\n",
        "        print(f'Epoch {epoch+1}:')\n",
        "        print(f'Train Loss: {train_loss:.4f}, Train Acc: {train_acc:.2f}%')\n",
        "        print(f'Val Loss: {test_loss:.4f}, Test Acc: {test_acc:.2f}%')\n",
        "\n",
        "        if test_acc > best_acc:\n",
        "            best_acc = test_acc\n",
        "            torch.save(model.state_dict(), 'best_overall.pth')\n",
        "\n",
        "        best_acc_overall.append(test_acc)\n",
        "\n",
        "\n",
        "if __name__ == '__main__':\n",
        "  main()"
      ],
      "metadata": {
        "colab": {
          "base_uri": "https://localhost:8080/"
        },
        "id": "iLhI5bPGf0to",
        "outputId": "82669f2b-7989-42a8-af5f-54bb8cf8a999",
        "collapsed": true
      },
      "execution_count": 10,
      "outputs": [
        {
          "output_type": "stream",
          "name": "stderr",
          "text": [
            "100%|██████████| 1000/1000 [00:00<00:00, 3277.64it/s]\n",
            "100%|██████████| 200/200 [00:00<00:00, 3165.60it/s]\n",
            "Training: 100%|██████████| 32/32 [00:14<00:00,  2.22it/s]\n",
            "Validating: 100%|██████████| 7/7 [00:01<00:00,  6.06it/s]\n"
          ]
        },
        {
          "output_type": "stream",
          "name": "stdout",
          "text": [
            "Epoch 1:\n",
            "Train Loss: 0.1587, Train Acc: 95.40%\n",
            "Val Loss: 0.1585, Test Acc: 97.50%\n"
          ]
        },
        {
          "output_type": "stream",
          "name": "stderr",
          "text": [
            "Training: 100%|██████████| 32/32 [00:14<00:00,  2.22it/s]\n",
            "Validating: 100%|██████████| 7/7 [00:01<00:00,  5.84it/s]\n"
          ]
        },
        {
          "output_type": "stream",
          "name": "stdout",
          "text": [
            "Epoch 2:\n",
            "Train Loss: 0.0847, Train Acc: 98.10%\n",
            "Val Loss: 0.2415, Test Acc: 97.50%\n"
          ]
        },
        {
          "output_type": "stream",
          "name": "stderr",
          "text": [
            "Training: 100%|██████████| 32/32 [00:14<00:00,  2.20it/s]\n",
            "Validating: 100%|██████████| 7/7 [00:01<00:00,  6.15it/s]\n"
          ]
        },
        {
          "output_type": "stream",
          "name": "stdout",
          "text": [
            "Epoch 3:\n",
            "Train Loss: 0.0693, Train Acc: 98.10%\n",
            "Val Loss: 0.2607, Test Acc: 97.50%\n"
          ]
        },
        {
          "output_type": "stream",
          "name": "stderr",
          "text": [
            "Training: 100%|██████████| 32/32 [00:14<00:00,  2.22it/s]\n",
            "Validating: 100%|██████████| 7/7 [00:01<00:00,  6.01it/s]\n"
          ]
        },
        {
          "output_type": "stream",
          "name": "stdout",
          "text": [
            "Epoch 4:\n",
            "Train Loss: 0.0546, Train Acc: 98.10%\n",
            "Val Loss: 0.3724, Test Acc: 97.50%\n"
          ]
        },
        {
          "output_type": "stream",
          "name": "stderr",
          "text": [
            "Training: 100%|██████████| 32/32 [00:14<00:00,  2.23it/s]\n",
            "Validating: 100%|██████████| 7/7 [00:01<00:00,  6.14it/s]\n"
          ]
        },
        {
          "output_type": "stream",
          "name": "stdout",
          "text": [
            "Epoch 5:\n",
            "Train Loss: 0.0667, Train Acc: 98.30%\n",
            "Val Loss: 0.4764, Test Acc: 97.50%\n"
          ]
        },
        {
          "output_type": "stream",
          "name": "stderr",
          "text": [
            "Training: 100%|██████████| 32/32 [00:14<00:00,  2.22it/s]\n",
            "Validating: 100%|██████████| 7/7 [00:01<00:00,  5.18it/s]\n"
          ]
        },
        {
          "output_type": "stream",
          "name": "stdout",
          "text": [
            "Epoch 6:\n",
            "Train Loss: 0.0675, Train Acc: 98.60%\n",
            "Val Loss: 0.3933, Test Acc: 97.50%\n"
          ]
        },
        {
          "output_type": "stream",
          "name": "stderr",
          "text": [
            "Training: 100%|██████████| 32/32 [00:14<00:00,  2.23it/s]\n",
            "Validating: 100%|██████████| 7/7 [00:01<00:00,  6.01it/s]\n"
          ]
        },
        {
          "output_type": "stream",
          "name": "stdout",
          "text": [
            "Epoch 7:\n",
            "Train Loss: 0.0644, Train Acc: 98.20%\n",
            "Val Loss: 0.2761, Test Acc: 97.50%\n"
          ]
        },
        {
          "output_type": "stream",
          "name": "stderr",
          "text": [
            "Training: 100%|██████████| 32/32 [00:14<00:00,  2.23it/s]\n",
            "Validating: 100%|██████████| 7/7 [00:01<00:00,  6.01it/s]\n"
          ]
        },
        {
          "output_type": "stream",
          "name": "stdout",
          "text": [
            "Epoch 8:\n",
            "Train Loss: 0.0414, Train Acc: 98.40%\n",
            "Val Loss: 0.2624, Test Acc: 97.50%\n"
          ]
        },
        {
          "output_type": "stream",
          "name": "stderr",
          "text": [
            "Training: 100%|██████████| 32/32 [00:14<00:00,  2.23it/s]\n",
            "Validating: 100%|██████████| 7/7 [00:01<00:00,  6.00it/s]\n"
          ]
        },
        {
          "output_type": "stream",
          "name": "stdout",
          "text": [
            "Epoch 9:\n",
            "Train Loss: 0.0203, Train Acc: 99.30%\n",
            "Val Loss: 0.4456, Test Acc: 96.50%\n"
          ]
        },
        {
          "output_type": "stream",
          "name": "stderr",
          "text": [
            "Training: 100%|██████████| 32/32 [00:14<00:00,  2.20it/s]\n",
            "Validating: 100%|██████████| 7/7 [00:01<00:00,  6.08it/s]"
          ]
        },
        {
          "output_type": "stream",
          "name": "stdout",
          "text": [
            "Epoch 10:\n",
            "Train Loss: 0.0337, Train Acc: 99.00%\n",
            "Val Loss: 0.8566, Test Acc: 79.50%\n"
          ]
        },
        {
          "output_type": "stream",
          "name": "stderr",
          "text": [
            "\n"
          ]
        }
      ]
    },
    {
      "cell_type": "code",
      "source": [
        "print(max(best_acc_overall))"
      ],
      "metadata": {
        "colab": {
          "base_uri": "https://localhost:8080/"
        },
        "id": "FoRY-rnJg7GF",
        "outputId": "cd5b2b59-b42d-4fe7-afac-bcbef536ca84"
      },
      "execution_count": 11,
      "outputs": [
        {
          "output_type": "stream",
          "name": "stdout",
          "text": [
            "97.5\n"
          ]
        }
      ]
    },
    {
      "cell_type": "code",
      "source": [
        "plt.plot(best_acc_overall)\n",
        "plt.title(\"Best noise parameters\")\n",
        "plt.xlabel(\"Epochs\")\n",
        "plt.ylabel(\"Accuracy\")\n",
        "plt.show()"
      ],
      "metadata": {
        "colab": {
          "base_uri": "https://localhost:8080/",
          "height": 472
        },
        "id": "6TYaLKkbh7PJ",
        "outputId": "474cc2dc-f714-4f02-89b0-50deb263e07d"
      },
      "execution_count": 12,
      "outputs": [
        {
          "output_type": "display_data",
          "data": {
            "text/plain": [
              "<Figure size 640x480 with 1 Axes>"
            ],
            "image/png": "[encoded data removed]"
          },
          "metadata": {}
        }
      ]
    },
    {
      "cell_type": "code",
      "source": [],
      "metadata": {
        "id": "1nhykmuriDmw"
      },
      "execution_count": null,
      "outputs": []
    }
  ]
}